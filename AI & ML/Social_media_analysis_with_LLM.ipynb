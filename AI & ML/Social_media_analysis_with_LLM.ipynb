{
  "nbformat": 4,
  "nbformat_minor": 0,
  "metadata": {
    "colab": {
      "provenance": [],
      "gpuType": "T4"
    },
    "kernelspec": {
      "name": "python3",
      "display_name": "Python 3"
    },
    "language_info": {
      "name": "python"
    },
    "accelerator": "GPU"
  },
  "cells": [
    {
      "cell_type": "code",
      "source": [
        "!pip install langchain-google-genai"
      ],
      "metadata": {
        "colab": {
          "base_uri": "https://localhost:8080/"
        },
        "id": "GARnNcjuhnLE",
        "outputId": "07968aa3-d84a-4405-a0da-5440512d4d66"
      },
      "execution_count": 2,
      "outputs": [
        {
          "output_type": "stream",
          "name": "stdout",
          "text": [
            "Collecting langchain-google-genai\n",
            "  Downloading langchain_google_genai-1.0.5-py3-none-any.whl (34 kB)\n",
            "Requirement already satisfied: google-generativeai<0.6.0,>=0.5.2 in /usr/local/lib/python3.10/dist-packages (from langchain-google-genai) (0.5.4)\n",
            "Collecting langchain-core<0.3,>=0.2.0 (from langchain-google-genai)\n",
            "  Downloading langchain_core-0.2.1-py3-none-any.whl (308 kB)\n",
            "\u001b[2K     \u001b[90m━━━━━━━━━━━━━━━━━━━━━━━━━━━━━━━━━━━━━━━━\u001b[0m \u001b[32m308.5/308.5 kB\u001b[0m \u001b[31m3.1 MB/s\u001b[0m eta \u001b[36m0:00:00\u001b[0m\n",
            "\u001b[?25hRequirement already satisfied: google-ai-generativelanguage==0.6.4 in /usr/local/lib/python3.10/dist-packages (from google-generativeai<0.6.0,>=0.5.2->langchain-google-genai) (0.6.4)\n",
            "Requirement already satisfied: google-api-core in /usr/local/lib/python3.10/dist-packages (from google-generativeai<0.6.0,>=0.5.2->langchain-google-genai) (2.11.1)\n",
            "Requirement already satisfied: google-api-python-client in /usr/local/lib/python3.10/dist-packages (from google-generativeai<0.6.0,>=0.5.2->langchain-google-genai) (2.84.0)\n",
            "Requirement already satisfied: google-auth>=2.15.0 in /usr/local/lib/python3.10/dist-packages (from google-generativeai<0.6.0,>=0.5.2->langchain-google-genai) (2.27.0)\n",
            "Requirement already satisfied: protobuf in /usr/local/lib/python3.10/dist-packages (from google-generativeai<0.6.0,>=0.5.2->langchain-google-genai) (3.20.3)\n",
            "Requirement already satisfied: pydantic in /usr/local/lib/python3.10/dist-packages (from google-generativeai<0.6.0,>=0.5.2->langchain-google-genai) (2.7.1)\n",
            "Requirement already satisfied: tqdm in /usr/local/lib/python3.10/dist-packages (from google-generativeai<0.6.0,>=0.5.2->langchain-google-genai) (4.66.4)\n",
            "Requirement already satisfied: typing-extensions in /usr/local/lib/python3.10/dist-packages (from google-generativeai<0.6.0,>=0.5.2->langchain-google-genai) (4.11.0)\n",
            "Requirement already satisfied: proto-plus<2.0.0dev,>=1.22.3 in /usr/local/lib/python3.10/dist-packages (from google-ai-generativelanguage==0.6.4->google-generativeai<0.6.0,>=0.5.2->langchain-google-genai) (1.23.0)\n",
            "Requirement already satisfied: PyYAML>=5.3 in /usr/local/lib/python3.10/dist-packages (from langchain-core<0.3,>=0.2.0->langchain-google-genai) (6.0.1)\n",
            "Collecting jsonpatch<2.0,>=1.33 (from langchain-core<0.3,>=0.2.0->langchain-google-genai)\n",
            "  Downloading jsonpatch-1.33-py2.py3-none-any.whl (12 kB)\n",
            "Collecting langsmith<0.2.0,>=0.1.0 (from langchain-core<0.3,>=0.2.0->langchain-google-genai)\n",
            "  Downloading langsmith-0.1.63-py3-none-any.whl (122 kB)\n",
            "\u001b[2K     \u001b[90m━━━━━━━━━━━━━━━━━━━━━━━━━━━━━━━━━━━━━━━━\u001b[0m \u001b[32m122.8/122.8 kB\u001b[0m \u001b[31m12.9 MB/s\u001b[0m eta \u001b[36m0:00:00\u001b[0m\n",
            "\u001b[?25hCollecting packaging<24.0,>=23.2 (from langchain-core<0.3,>=0.2.0->langchain-google-genai)\n",
            "  Downloading packaging-23.2-py3-none-any.whl (53 kB)\n",
            "\u001b[2K     \u001b[90m━━━━━━━━━━━━━━━━━━━━━━━━━━━━━━━━━━━━━━━━\u001b[0m \u001b[32m53.0/53.0 kB\u001b[0m \u001b[31m6.8 MB/s\u001b[0m eta \u001b[36m0:00:00\u001b[0m\n",
            "\u001b[?25hRequirement already satisfied: tenacity<9.0.0,>=8.1.0 in /usr/local/lib/python3.10/dist-packages (from langchain-core<0.3,>=0.2.0->langchain-google-genai) (8.3.0)\n",
            "Requirement already satisfied: cachetools<6.0,>=2.0.0 in /usr/local/lib/python3.10/dist-packages (from google-auth>=2.15.0->google-generativeai<0.6.0,>=0.5.2->langchain-google-genai) (5.3.3)\n",
            "Requirement already satisfied: pyasn1-modules>=0.2.1 in /usr/local/lib/python3.10/dist-packages (from google-auth>=2.15.0->google-generativeai<0.6.0,>=0.5.2->langchain-google-genai) (0.4.0)\n",
            "Requirement already satisfied: rsa<5,>=3.1.4 in /usr/local/lib/python3.10/dist-packages (from google-auth>=2.15.0->google-generativeai<0.6.0,>=0.5.2->langchain-google-genai) (4.9)\n",
            "Collecting jsonpointer>=1.9 (from jsonpatch<2.0,>=1.33->langchain-core<0.3,>=0.2.0->langchain-google-genai)\n",
            "  Downloading jsonpointer-2.4-py2.py3-none-any.whl (7.8 kB)\n",
            "Collecting orjson<4.0.0,>=3.9.14 (from langsmith<0.2.0,>=0.1.0->langchain-core<0.3,>=0.2.0->langchain-google-genai)\n",
            "  Downloading orjson-3.10.3-cp310-cp310-manylinux_2_17_x86_64.manylinux2014_x86_64.whl (142 kB)\n",
            "\u001b[2K     \u001b[90m━━━━━━━━━━━━━━━━━━━━━━━━━━━━━━━━━━━━━━━━\u001b[0m \u001b[32m142.5/142.5 kB\u001b[0m \u001b[31m13.8 MB/s\u001b[0m eta \u001b[36m0:00:00\u001b[0m\n",
            "\u001b[?25hRequirement already satisfied: requests<3,>=2 in /usr/local/lib/python3.10/dist-packages (from langsmith<0.2.0,>=0.1.0->langchain-core<0.3,>=0.2.0->langchain-google-genai) (2.31.0)\n",
            "Requirement already satisfied: annotated-types>=0.4.0 in /usr/local/lib/python3.10/dist-packages (from pydantic->google-generativeai<0.6.0,>=0.5.2->langchain-google-genai) (0.7.0)\n",
            "Requirement already satisfied: pydantic-core==2.18.2 in /usr/local/lib/python3.10/dist-packages (from pydantic->google-generativeai<0.6.0,>=0.5.2->langchain-google-genai) (2.18.2)\n",
            "Requirement already satisfied: googleapis-common-protos<2.0.dev0,>=1.56.2 in /usr/local/lib/python3.10/dist-packages (from google-api-core->google-generativeai<0.6.0,>=0.5.2->langchain-google-genai) (1.63.0)\n",
            "Requirement already satisfied: httplib2<1dev,>=0.15.0 in /usr/local/lib/python3.10/dist-packages (from google-api-python-client->google-generativeai<0.6.0,>=0.5.2->langchain-google-genai) (0.22.0)\n",
            "Requirement already satisfied: google-auth-httplib2>=0.1.0 in /usr/local/lib/python3.10/dist-packages (from google-api-python-client->google-generativeai<0.6.0,>=0.5.2->langchain-google-genai) (0.1.1)\n",
            "Requirement already satisfied: uritemplate<5,>=3.0.1 in /usr/local/lib/python3.10/dist-packages (from google-api-python-client->google-generativeai<0.6.0,>=0.5.2->langchain-google-genai) (4.1.1)\n",
            "Requirement already satisfied: grpcio<2.0dev,>=1.33.2 in /usr/local/lib/python3.10/dist-packages (from google-api-core->google-generativeai<0.6.0,>=0.5.2->langchain-google-genai) (1.64.0)\n",
            "Requirement already satisfied: grpcio-status<2.0.dev0,>=1.33.2 in /usr/local/lib/python3.10/dist-packages (from google-api-core->google-generativeai<0.6.0,>=0.5.2->langchain-google-genai) (1.48.2)\n",
            "Requirement already satisfied: pyparsing!=3.0.0,!=3.0.1,!=3.0.2,!=3.0.3,<4,>=2.4.2 in /usr/local/lib/python3.10/dist-packages (from httplib2<1dev,>=0.15.0->google-api-python-client->google-generativeai<0.6.0,>=0.5.2->langchain-google-genai) (3.1.2)\n",
            "Requirement already satisfied: pyasn1<0.7.0,>=0.4.6 in /usr/local/lib/python3.10/dist-packages (from pyasn1-modules>=0.2.1->google-auth>=2.15.0->google-generativeai<0.6.0,>=0.5.2->langchain-google-genai) (0.6.0)\n",
            "Requirement already satisfied: charset-normalizer<4,>=2 in /usr/local/lib/python3.10/dist-packages (from requests<3,>=2->langsmith<0.2.0,>=0.1.0->langchain-core<0.3,>=0.2.0->langchain-google-genai) (3.3.2)\n",
            "Requirement already satisfied: idna<4,>=2.5 in /usr/local/lib/python3.10/dist-packages (from requests<3,>=2->langsmith<0.2.0,>=0.1.0->langchain-core<0.3,>=0.2.0->langchain-google-genai) (3.7)\n",
            "Requirement already satisfied: urllib3<3,>=1.21.1 in /usr/local/lib/python3.10/dist-packages (from requests<3,>=2->langsmith<0.2.0,>=0.1.0->langchain-core<0.3,>=0.2.0->langchain-google-genai) (2.0.7)\n",
            "Requirement already satisfied: certifi>=2017.4.17 in /usr/local/lib/python3.10/dist-packages (from requests<3,>=2->langsmith<0.2.0,>=0.1.0->langchain-core<0.3,>=0.2.0->langchain-google-genai) (2024.2.2)\n",
            "Installing collected packages: packaging, orjson, jsonpointer, jsonpatch, langsmith, langchain-core, langchain-google-genai\n",
            "  Attempting uninstall: packaging\n",
            "    Found existing installation: packaging 24.0\n",
            "    Uninstalling packaging-24.0:\n",
            "      Successfully uninstalled packaging-24.0\n",
            "Successfully installed jsonpatch-1.33 jsonpointer-2.4 langchain-core-0.2.1 langchain-google-genai-1.0.5 langsmith-0.1.63 orjson-3.10.3 packaging-23.2\n"
          ]
        }
      ]
    },
    {
      "cell_type": "code",
      "source": [
        "!pip install langchain_community"
      ],
      "metadata": {
        "colab": {
          "base_uri": "https://localhost:8080/"
        },
        "id": "0Np2cQzgh2DV",
        "outputId": "af6997a3-ae66-433e-d908-47bb26feab57"
      },
      "execution_count": 4,
      "outputs": [
        {
          "output_type": "stream",
          "name": "stdout",
          "text": [
            "Collecting langchain_community\n",
            "  Downloading langchain_community-0.2.1-py3-none-any.whl (2.1 MB)\n",
            "\u001b[2K     \u001b[90m━━━━━━━━━━━━━━━━━━━━━━━━━━━━━━━━━━━━━━━━\u001b[0m \u001b[32m2.1/2.1 MB\u001b[0m \u001b[31m9.8 MB/s\u001b[0m eta \u001b[36m0:00:00\u001b[0m\n",
            "\u001b[?25hRequirement already satisfied: PyYAML>=5.3 in /usr/local/lib/python3.10/dist-packages (from langchain_community) (6.0.1)\n",
            "Requirement already satisfied: SQLAlchemy<3,>=1.4 in /usr/local/lib/python3.10/dist-packages (from langchain_community) (2.0.30)\n",
            "Requirement already satisfied: aiohttp<4.0.0,>=3.8.3 in /usr/local/lib/python3.10/dist-packages (from langchain_community) (3.9.5)\n",
            "Collecting dataclasses-json<0.7,>=0.5.7 (from langchain_community)\n",
            "  Downloading dataclasses_json-0.6.6-py3-none-any.whl (28 kB)\n",
            "Collecting langchain<0.3.0,>=0.2.0 (from langchain_community)\n",
            "  Downloading langchain-0.2.1-py3-none-any.whl (973 kB)\n",
            "\u001b[2K     \u001b[90m━━━━━━━━━━━━━━━━━━━━━━━━━━━━━━━━━━━━━━━━\u001b[0m \u001b[32m973.5/973.5 kB\u001b[0m \u001b[31m64.0 MB/s\u001b[0m eta \u001b[36m0:00:00\u001b[0m\n",
            "\u001b[?25hRequirement already satisfied: langchain-core<0.3.0,>=0.2.0 in /usr/local/lib/python3.10/dist-packages (from langchain_community) (0.2.1)\n",
            "Requirement already satisfied: langsmith<0.2.0,>=0.1.0 in /usr/local/lib/python3.10/dist-packages (from langchain_community) (0.1.63)\n",
            "Requirement already satisfied: numpy<2,>=1 in /usr/local/lib/python3.10/dist-packages (from langchain_community) (1.25.2)\n",
            "Requirement already satisfied: requests<3,>=2 in /usr/local/lib/python3.10/dist-packages (from langchain_community) (2.31.0)\n",
            "Requirement already satisfied: tenacity<9.0.0,>=8.1.0 in /usr/local/lib/python3.10/dist-packages (from langchain_community) (8.3.0)\n",
            "Requirement already satisfied: aiosignal>=1.1.2 in /usr/local/lib/python3.10/dist-packages (from aiohttp<4.0.0,>=3.8.3->langchain_community) (1.3.1)\n",
            "Requirement already satisfied: attrs>=17.3.0 in /usr/local/lib/python3.10/dist-packages (from aiohttp<4.0.0,>=3.8.3->langchain_community) (23.2.0)\n",
            "Requirement already satisfied: frozenlist>=1.1.1 in /usr/local/lib/python3.10/dist-packages (from aiohttp<4.0.0,>=3.8.3->langchain_community) (1.4.1)\n",
            "Requirement already satisfied: multidict<7.0,>=4.5 in /usr/local/lib/python3.10/dist-packages (from aiohttp<4.0.0,>=3.8.3->langchain_community) (6.0.5)\n",
            "Requirement already satisfied: yarl<2.0,>=1.0 in /usr/local/lib/python3.10/dist-packages (from aiohttp<4.0.0,>=3.8.3->langchain_community) (1.9.4)\n",
            "Requirement already satisfied: async-timeout<5.0,>=4.0 in /usr/local/lib/python3.10/dist-packages (from aiohttp<4.0.0,>=3.8.3->langchain_community) (4.0.3)\n",
            "Collecting marshmallow<4.0.0,>=3.18.0 (from dataclasses-json<0.7,>=0.5.7->langchain_community)\n",
            "  Downloading marshmallow-3.21.2-py3-none-any.whl (49 kB)\n",
            "\u001b[2K     \u001b[90m━━━━━━━━━━━━━━━━━━━━━━━━━━━━━━━━━━━━━━━━\u001b[0m \u001b[32m49.3/49.3 kB\u001b[0m \u001b[31m7.0 MB/s\u001b[0m eta \u001b[36m0:00:00\u001b[0m\n",
            "\u001b[?25hCollecting typing-inspect<1,>=0.4.0 (from dataclasses-json<0.7,>=0.5.7->langchain_community)\n",
            "  Downloading typing_inspect-0.9.0-py3-none-any.whl (8.8 kB)\n",
            "Collecting langchain-text-splitters<0.3.0,>=0.2.0 (from langchain<0.3.0,>=0.2.0->langchain_community)\n",
            "  Downloading langchain_text_splitters-0.2.0-py3-none-any.whl (23 kB)\n",
            "Requirement already satisfied: pydantic<3,>=1 in /usr/local/lib/python3.10/dist-packages (from langchain<0.3.0,>=0.2.0->langchain_community) (2.7.1)\n",
            "Requirement already satisfied: jsonpatch<2.0,>=1.33 in /usr/local/lib/python3.10/dist-packages (from langchain-core<0.3.0,>=0.2.0->langchain_community) (1.33)\n",
            "Requirement already satisfied: packaging<24.0,>=23.2 in /usr/local/lib/python3.10/dist-packages (from langchain-core<0.3.0,>=0.2.0->langchain_community) (23.2)\n",
            "Requirement already satisfied: orjson<4.0.0,>=3.9.14 in /usr/local/lib/python3.10/dist-packages (from langsmith<0.2.0,>=0.1.0->langchain_community) (3.10.3)\n",
            "Requirement already satisfied: charset-normalizer<4,>=2 in /usr/local/lib/python3.10/dist-packages (from requests<3,>=2->langchain_community) (3.3.2)\n",
            "Requirement already satisfied: idna<4,>=2.5 in /usr/local/lib/python3.10/dist-packages (from requests<3,>=2->langchain_community) (3.7)\n",
            "Requirement already satisfied: urllib3<3,>=1.21.1 in /usr/local/lib/python3.10/dist-packages (from requests<3,>=2->langchain_community) (2.0.7)\n",
            "Requirement already satisfied: certifi>=2017.4.17 in /usr/local/lib/python3.10/dist-packages (from requests<3,>=2->langchain_community) (2024.2.2)\n",
            "Requirement already satisfied: typing-extensions>=4.6.0 in /usr/local/lib/python3.10/dist-packages (from SQLAlchemy<3,>=1.4->langchain_community) (4.11.0)\n",
            "Requirement already satisfied: greenlet!=0.4.17 in /usr/local/lib/python3.10/dist-packages (from SQLAlchemy<3,>=1.4->langchain_community) (3.0.3)\n",
            "Requirement already satisfied: jsonpointer>=1.9 in /usr/local/lib/python3.10/dist-packages (from jsonpatch<2.0,>=1.33->langchain-core<0.3.0,>=0.2.0->langchain_community) (2.4)\n",
            "Requirement already satisfied: annotated-types>=0.4.0 in /usr/local/lib/python3.10/dist-packages (from pydantic<3,>=1->langchain<0.3.0,>=0.2.0->langchain_community) (0.7.0)\n",
            "Requirement already satisfied: pydantic-core==2.18.2 in /usr/local/lib/python3.10/dist-packages (from pydantic<3,>=1->langchain<0.3.0,>=0.2.0->langchain_community) (2.18.2)\n",
            "Collecting mypy-extensions>=0.3.0 (from typing-inspect<1,>=0.4.0->dataclasses-json<0.7,>=0.5.7->langchain_community)\n",
            "  Downloading mypy_extensions-1.0.0-py3-none-any.whl (4.7 kB)\n",
            "Installing collected packages: mypy-extensions, marshmallow, typing-inspect, dataclasses-json, langchain-text-splitters, langchain, langchain_community\n",
            "Successfully installed dataclasses-json-0.6.6 langchain-0.2.1 langchain-text-splitters-0.2.0 langchain_community-0.2.1 marshmallow-3.21.2 mypy-extensions-1.0.0 typing-inspect-0.9.0\n"
          ]
        }
      ]
    },
    {
      "cell_type": "code",
      "execution_count": 12,
      "metadata": {
        "colab": {
          "base_uri": "https://localhost:8080/"
        },
        "id": "6zRryNSwhADs",
        "outputId": "f9658b2a-7f10-4ab1-e5d4-9bac03097940"
      },
      "outputs": [
        {
          "output_type": "stream",
          "name": "stdout",
          "text": [
            "Summary:\n",
            " UK Prime Minister Rishi Sunak called for snap elections, with the election set for May 22nd. This unexpected move comes amid ongoing challenges in the job market, where women continue to face disparities compared to men in terms of opportunities and advancement.\n"
          ]
        }
      ],
      "source": [
        "#Import Modules\n",
        "from langchain_google_genai import ChatGoogleGenerativeAI\n",
        "from langchain_google_genai import GoogleGenerativeAIEmbeddings\n",
        "from langchain_community.document_loaders import WebBaseLoader\n",
        "from langchain.chains import StuffDocumentsChain\n",
        "from langchain.chains.llm import LLMChain\n",
        "from langchain.prompts import PromptTemplate\n",
        "import google.generativeai as genai\n",
        "\n",
        "# configure api key and initialise model\n",
        "from google.colab import userdata\n",
        "import os\n",
        "\n",
        "\n",
        "if \"GOOGLE_API_KEY\" not in os.environ:\n",
        "    os.environ[\"GOOGLE_API_KEY\"] = userdata.get('api_key')\n",
        "\n",
        "genai.configure(api_key=os.environ['GOOGLE_API_KEY'])\n",
        "\n",
        "#Initialize Model\n",
        "llm = ChatGoogleGenerativeAI(model=\"gemini-pro\")\n",
        "\n",
        "#Load the blog\n",
        "loader = WebBaseLoader(\"https://www.prothomalony.com/\")\n",
        "docs = loader.load()\n",
        "\n",
        "#Define the Summarize Chain\n",
        "summary = \"\"\"Write a concise summary of the following:\n",
        "\"{text}\"\n",
        "CONCISE SUMMARY:\"\"\"\n",
        "\n",
        "prompt = PromptTemplate.from_template(summary)\n",
        "\n",
        "llm_chain = LLMChain(llm=llm, prompt=prompt)\n",
        "stuff_chain = StuffDocumentsChain(llm_chain=llm_chain, document_variable_name=\"text\")\n",
        "\n",
        "#Invoke Chain\n",
        "response = stuff_chain.invoke(docs)\n",
        "print(\"Summary:\\n\", response[\"output_text\"])"
      ]
    },
    {
      "cell_type": "code",
      "source": [
        "named_entity = \"\"\"Provide named entities in a presentative tabular form of the following:\n",
        "\"{text}\"\n",
        "NER:\"\"\"\n",
        "\n",
        "prompt = PromptTemplate.from_template(named_entity)\n",
        "\n",
        "llm_chain = LLMChain(llm=llm, prompt=prompt)\n",
        "stuff_chain = StuffDocumentsChain(llm_chain=llm_chain, document_variable_name=\"text\")\n",
        "\n",
        "#Invoke Chain\n",
        "response=stuff_chain.invoke(docs)\n",
        "print(\"NER:\\n\", response[\"output_text\"])"
      ],
      "metadata": {
        "colab": {
          "base_uri": "https://localhost:8080/"
        },
        "id": "oFGv9z1PkRot",
        "outputId": "0c905e5b-b2b7-444e-d97b-c1c7b890f364"
      },
      "execution_count": 18,
      "outputs": [
        {
          "output_type": "stream",
          "name": "stdout",
          "text": [
            "NER:\n",
            " | Entity | Type |\n",
            "|---|---|\n",
            "| ঋষি সুনাক | Person |\n",
            "| যুক্তরাজ্য | Country |\n",
            "| নরওয়ে | Country |\n",
            "| স্পেন | Country |\n",
            "| আয়ারল্যান্ড | Country |\n",
            "| ফিলিস্তিন | Country |\n",
            "| কুয়েত | Country |\n",
            "| বাংলাদেশ | Country |\n",
            "| নুরুল ইসলাম | Person |\n",
            "| হাঙ্গার ফ্রি এনওয়াইসি | Organization |\n",
            "| এলিস মিউনরো | Person |\n",
            "| হায়দার আকবর খান রনো | Person |\n",
            "| নুরুল আলম লাল | Person |\n",
            "| প্রগিতশীল গণ সংস্কৃতি পরিষদ (পিডিআই) | Organization |\n",
            "| উদীচী শিল্পী গোষ্ঠী | Organization |\n",
            "| আবদুল গাফ্ফার চৌধুরী | Person |\n",
            "| আনার খুন | Person |\n",
            "| ফারাক্কা বাঁধ | Infrastructure |\n",
            "| দেয়ালের দেশ | Movie |\n",
            "| ইব্রাহীম চৌধুরী | Person |\n"
          ]
        }
      ]
    },
    {
      "cell_type": "code",
      "source": [
        "import csv\n",
        "from collections import Counter\n",
        "\n",
        "# Assuming the response is stored in the variable `response`\n",
        "response_text = \"\"\"\n",
        " | Entity | Type |\n",
        "|---|---|\n",
        "| ঋষি সুনাক | Person |\n",
        "| যুক্তরাজ্য | Country |\n",
        "| নরওয়ে | Country |\n",
        "| স্পেন | Country |\n",
        "| আয়ারল্যান্ড | Country |\n",
        "| ফিলিস্তিন | Country |\n",
        "| কুয়েত | Country |\n",
        "| বাংলাদেশ | Country |\n",
        "| নুরুল ইসলাম | Person |\n",
        "| হাঙ্গার ফ্রি এনওয়াইসি | Organization |\n",
        "| এলিস মিউনরো | Person |\n",
        "| হায়দার আকবর খান রনো | Person |\n",
        "| নুরুল আলম লাল | Person |\n",
        "| প্রগিতশীল গণ সংস্কৃতি পরিষদ (পিডিআই) | Organization |\n",
        "| উদীচী শিল্পী গোষ্ঠী | Organization |\n",
        "| আবদুল গাফ্ফার চৌধুরী | Person |\n",
        "| আনার খুন | Person |\n",
        "| ফারাক্কা বাঁধ | Infrastructure |\n",
        "| দেয়ালের দেশ | Movie |\n",
        "| ইব্রাহীম চৌধুরী | Person |\n",
        "\"\"\"\n",
        "\n",
        "# Parse the response text to get entities and their types\n",
        "lines = response_text.strip().split('\\n')\n",
        "data = []\n",
        "types = []\n",
        "\n",
        "for line in lines[3:]:  # Skip the header and separator lines\n",
        "    parts = line.strip('|').split('|')\n",
        "    if len(parts) == 2:\n",
        "        entity = parts[0].strip()\n",
        "        entity_type = parts[1].strip()\n",
        "        data.append([entity, entity_type])\n",
        "        types.append(entity_type)\n",
        "\n",
        "# Count occurrences of each type\n",
        "type_counts = Counter(types)\n",
        "\n",
        "# Add counts to the data\n",
        "data_with_counts = [[entity, entity_type, type_counts[entity_type]] for entity, entity_type in data]\n",
        "\n",
        "# Write the data to a CSV file\n",
        "csv_file = '/content/drive/MyDrive/Colab_Notebooks/llm_ner.csv'\n",
        "\n",
        "with open(csv_file, 'w', newline='', encoding='utf-8') as file:\n",
        "    writer = csv.writer(file)\n",
        "    writer.writerow(['Entity', 'Type', 'Count'])\n",
        "    writer.writerows(data_with_counts)\n",
        "\n",
        "print(f\"Data with counts has been written to {csv_file}\")"
      ],
      "metadata": {
        "colab": {
          "base_uri": "https://localhost:8080/"
        },
        "id": "AGujx-Psykzt",
        "outputId": "13af8035-6564-4345-dfd2-38b247cac2fd"
      },
      "execution_count": 80,
      "outputs": [
        {
          "output_type": "stream",
          "name": "stdout",
          "text": [
            "Data with counts has been written to /content/drive/MyDrive/Colab_Notebooks/llm_ner.csv\n"
          ]
        }
      ]
    },
    {
      "cell_type": "code",
      "source": [
        "topic = \"\"\"Provide topic in a presentative tabular form of the following:\n",
        "\"{text}\"\n",
        "Topic:\"\"\"\n",
        "\n",
        "prompt = PromptTemplate.from_template(topic)\n",
        "\n",
        "llm_chain = LLMChain(llm=llm, prompt=prompt)\n",
        "stuff_chain = StuffDocumentsChain(llm_chain=llm_chain, document_variable_name=\"text\")\n",
        "\n",
        "#Invoke Chain\n",
        "response=stuff_chain.invoke(docs)\n",
        "print(\"Topic:\\n\", response[\"output_text\"])"
      ],
      "metadata": {
        "colab": {
          "base_uri": "https://localhost:8080/"
        },
        "id": "X7cu1nz9rL5Y",
        "outputId": "3a99cd79-0e78-4f3f-afdc-530731f919ba"
      },
      "execution_count": 42,
      "outputs": [
        {
          "output_type": "stream",
          "name": "stdout",
          "text": [
            "Topic:\n",
            " **Prothom Alo New York - প্রথম আলো - নিউইয়র্ক**\n",
            "\n",
            "**উত্তর আমেরিকা**\n",
            "\n",
            "| **শিরোনাম** | **তারিখ** | **প্রকার** | **লেখক** |\n",
            "|---|---|---|---|\n",
            "| হুট করেই যুক্তরাজ্যে আগাম নির্বাচনের ঘোষণা করলেন ঋষি সুনাক | ২৪ মে ২০২৪ | সংবাদ | N/A |\n",
            "| চাকুরির বাজারে পুরুষের চেয়ে নারীরা পিছিয়ে কেন ? | N/A | মতামত | শারমিন আকতার |\n",
            "| কা র্টে ল আর স্নে ই ক হে ডে র হাতে প্রাণ ঝ র ছে ইমিগ্র্যান্ট প্রত্যাশীদের | N/A | সংবাদ | N/A |\n",
            "| বাংলায় ফুড স্ট্যাম্প সেবা চালু করল হাঙ্গার ফ্রি এনওয়াইসি | N/A | সংবাদ | N/A |\n",
            "| কুয়েতে মুক্তিযোদ্ধা নুরুল ইসলামকে সংবর্ধনা | N/A | সংবাদ | N/A |\n",
            "| জ্যামাইকা ফেন্ডস সোসাইটি: নিয়মনীতির তোয়াক্কা নেই | N/A | সংবাদ | N/A |\n",
            "| নারায়ণগঞ্জ জেলা সমিতির ঐক্যবদ্ধ কমিটি গঠন সভাপতি তুহিন, সা. সম্পাদক টিটো | N/A | সংবাদ | N/A |\n",
            "| ফি লি স্তি ন কে রাষ্ট্রের স্বীকৃতি দিচ্ছে নরওয়ে, স্পেন ও আয়ারল্যান্ড | N/A | সংবাদ | N/A |\n",
            "| বৈশাখী রিভার ক্রুজে আমন্ত্রণ | N/A | সংবাদ | N/A |\n",
            "| ঢাকা বিশ্ববিদ্যালয় অ্যালামনাই ইন দ্য ইউকে'র সাথে ঢাবি ভিসি প্রফেসর ডঃ এএসএম মাকসুদ কামালের মতবিনিময় | N/A | সংবাদ | N/A |\n",
            "| কিসের লজ্জা | N/A | সাহিত্য | N/A |\n",
            "| গ্রে প্তা রি প রো য়া না র আবেদন সত্ত্বেও যুক্তরাষ্ট্রে আমন্ত্রণ পাচ্ছেন নেতানিয়াহু | N/A | সংবাদ | N/A |\n",
            "\n",
            "**বাংলাদেশ**\n",
            "\n",
            "| **শিরোনাম** | **তারিখ** | **প্রকার** | **লেখক** |\n",
            "|---|---|---|---|\n",
            "| এমপি আনার খু ন: দায়িত্বশীলরা দেখছেন, ‘মি স টে রি য়া স’ হিসেবে | N/A | সংবাদ | N/A |\n",
            "| নারায়ণগঞ্জ জেলা সমিতির ঐক্যবদ্ধ কমিটি গঠন সভাপতি তুহিন, সা. সম্পাদক টিটো | N/A | সংবাদ | N/A |\n",
            "| জিএফবি - জি মুক্তধারা সাহিত্য পুরুষ্কার সহ অন্যান্য পুরস্কার আজ অনন্য অনুপ্রেরণা | N/A | সংবাদ | N/A |\n",
            "\n",
            "**সাহিত্য**\n",
            "\n",
            "| **শিরোনাম** | **তারিখ** | **প্রকার** | **লেখক** |\n",
            "|---|---|---|---|\n",
            "| কিসের লজ্জা | N/A | সাহিত্য | N/A |\n",
            "| নিউইয়র্ক আন্তর্জাতিক বইমেলা ২০২৪ উপলক্ষে গল্প অনন্য তীর্থে | N/A | সাহিত্য | N/A |\n",
            "| উত্তরের সাহিত্য | N/A | সাহিত্য | N/A |\n",
            "| স্মৃতির কোলাহলে আবদুল গাফ্ফার চৌধুরী | N/A | সাহিত্য | N/A |\n",
            "\n",
            "**খেলা**\n",
            "\n",
            "| **শিরোনাম** | **তারিখ** | **প্রকার** | **লেখক** |\n",
            "|---|---|---|---|\n",
            "| রোম বিডি স্পোটিং ক্লাবের ইফতার ও দোয়া মাহফিল | N/A | সংবাদ | N/A |\n",
            "| কুয়েতে ফিলিস্তিনের কাছে ৫ গোলে বিধ্বস্ত বাংলাদেশের ফুটবল টিম | N/A | সংবাদ | N/A |\n",
            "| কুয়েতে প্রস্তুতি সম্পন্ন আগামীকাল ফিলিস্তিনের মুখোমুখি বাংলাদেশ | N/A | সংবাদ | N/A |\n",
            "\n",
            "**অভিমত**\n",
            "\n",
            "| **শিরোনাম** | **তারিখ** | **প্রকার** | **লেখক** |\n",
            "|---|---|---|---|\n",
            "| ফারাক্কা বাঁধ: বাংলাদেশের জন্য অ ভি শা প, ভারতের জন্য আ ত্ম ঘা তী | N/A | মতামত | N/A |\n",
            "| ঐ ক্য গঠনে সত্যের বি ক ল্প নাই | N/A | মতামত | N/A |\n",
            "| স্বাস্থ্যবিধি মেনে চলুন: সুস্থ থাকুন | N/A | মতামত | N/A |\n",
            "\n",
            "**বিনোদন**\n",
            "\n",
            "| **শিরোনাম** | **তারিখ** | **প্রকার** | **লেখক** |\n",
            "|---|---|---|---|\n",
            "| বৈশাখী রিভার ক্রুজে আমন্ত্রণ | N/A | সংবাদ | N/A |\n",
            "| দেয়ালের দেশ / (সিনেমা রিভিউ) | N/A | সংবাদ | N/A |\n",
            "| নতুন থিয়েটার কিউ গার্ডেন সিনেমায় 'দেয়ালের দেশ' | N/A | সংবাদ | N/A |\n"
          ]
        }
      ]
    },
    {
      "cell_type": "code",
      "source": [
        "sentiment = \"\"\"Provide sentiment in a presentative tabular form of the following:\n",
        "\"{text}\"\n",
        "Sentiment:\"\"\"\n",
        "\n",
        "prompt = PromptTemplate.from_template(sentiment)\n",
        "\n",
        "llm_chain = LLMChain(llm=llm, prompt=prompt)\n",
        "stuff_chain = StuffDocumentsChain(llm_chain=llm_chain, document_variable_name=\"text\")\n",
        "\n",
        "#Invoke Chain\n",
        "response=stuff_chain.invoke(docs)\n",
        "print(\"Sentiment:\\n\", response[\"output_text\"])"
      ],
      "metadata": {
        "colab": {
          "base_uri": "https://localhost:8080/"
        },
        "id": "XigXVnRHuqY8",
        "outputId": "99d7dd3f-92c1-4e9f-c0ee-bd34cdf329a0"
      },
      "execution_count": 43,
      "outputs": [
        {
          "output_type": "stream",
          "name": "stdout",
          "text": [
            "Sentiment:\n",
            " | News Title | Sentiment |\n",
            "|---|---|\n",
            "| হুট করেই যুক্তরাজ্যে আগাম নির্বাচনের ঘোষণা করলেন ঋষি সুনাক | Neutral |\n",
            "| চাকুরির বাজারে পুরুষের চেয়ে নারীরা পিছিয়ে কেন ? | Negative |\n",
            "| কা র্টে ল আর স্নে ই ক হে ডে র হাতে প্রাণ ঝ র ছে ইমিগ্র্যান্ট প্রত্যাশীদের | Negative |\n",
            "| বাংলায় ফুড স্ট্যাম্প সেবা চালু করল হাঙ্গার ফ্রি এনওয়াইসি | Positive |\n",
            "| কুয়েতে মুক্তিযোদ্ধা নুরুল ইসলামকে সংবর্ধনা | Positive |\n",
            "| জ্যামাইকা ফেন্ডস সোসাইটি: নিয়মনীতির তোয়াক্কা নেই | Negative |\n",
            "| নারায়ণগঞ্জ জেলা সমিতির ঐক্যবদ্ধ কমিটি গঠন সভাপতি তুহিন, সা. সম্পাদক টিটো | Neutral |\n",
            "| ফি লি স্তি ন কে রাষ্ট্রের স্বীকৃতি দিচ্ছে নরওয়ে, স্পেন ও আয়ারল্যান্ড | Positive |\n",
            "| বৈশাখী রিভার ক্রুজে আমন্ত্রণ | Positive |\n",
            "| ঢাকা বিশ্ববিদ্যালয় অ্যালামনাই ইন দ্য ইউকে'র সাথে ঢাবি ভিসি প্রফেসর ডঃ এএসএম মাকসুদ কামালের মতবিনিময় | Neutral |\n",
            "| কিসের লজ্জা | Neutral |\n",
            "| গ্রে প্তা রি প রো য়া না র আবেদন সত্ত্বেও যুক্তরাষ্ট্রে আমন্ত্রণ পাচ্ছেন নেতানিয়াহু | Neutral |\n"
          ]
        }
      ]
    },
    {
      "cell_type": "code",
      "source": [
        "word_cloud = \"\"\"Provide word cloud and counts of the following:\n",
        "\"{text}\"\n",
        "Word cloud:\"\"\"\n",
        "\n",
        "prompt = PromptTemplate.from_template(word_cloud)\n",
        "\n",
        "llm_chain = LLMChain(llm=llm, prompt=prompt)\n",
        "stuff_chain = StuffDocumentsChain(llm_chain=llm_chain, document_variable_name=\"text\")\n",
        "\n",
        "#Invoke Chain\n",
        "response=stuff_chain.invoke(docs)\n",
        "print(\"Word cloud:\\n\", response[\"output_text\"])"
      ],
      "metadata": {
        "colab": {
          "base_uri": "https://localhost:8080/"
        },
        "id": "zWsxOyiSu6AW",
        "outputId": "9fcea2ee-bc24-44c7-b989-759a170ca483"
      },
      "execution_count": 77,
      "outputs": [
        {
          "output_type": "stream",
          "name": "stdout",
          "text": [
            "Word cloud:\n",
            " [New York, USA, Bangladesh, Canada, Literature, Sports, Entertainment, Fashion, Opinion, Video, Foundation, E-Paper, Latest, Popular, Op-ed, North America, Jamaica Funds Society, Narayanganj District Association, Palestine, Norway, Spain, Ireland, Vaiskhaki River Cruise, Dhaka University Alumni in the UK, Bangladesh Day Parade, Housing Authority, Queensboro Dance Festival, Amir Uzzaman Tutul, Saree goes global, Nobel Prize, Ellis Munro, Haider Akbar Khan Rono, Nurul Alam Lal, Paraben, Shilpa Ghar, Sharmeen Akhtar, Salimullah Khan, Sitangshu Guha, Romeen Laiys, Abdul Gaffar Chowdhury, Rafiqul Islam, Tofail Ahmed, Arafat Rahman Coco, Salahuddin Ahmed, Jahangir Alam Akash, Bangladesh Football Team, Farakka Barrage, Dejaller Desh, Ibrahim Chowdhury]\n",
            "\n",
            "Word counts:\n",
            "- New York: 5\n",
            "- USA: 1\n",
            "- Bangladesh: 3\n",
            "- Canada: 2\n",
            "- Literature: 2\n",
            "- Sports: 2\n",
            "- Entertainment: 2\n",
            "- Fashion: 1\n",
            "- Opinion: 3\n",
            "- Video: 1\n",
            "- Foundation: 1\n",
            "- E-Paper: 1\n",
            "- Latest: 1\n",
            "- Popular: 1\n",
            "- Op-ed: 1\n",
            "- North America: 3\n",
            "- Jamaica Funds Society: 1\n",
            "- Narayanganj District Association: 1\n",
            "- Palestine: 1\n",
            "- Norway: 1\n",
            "- Spain: 1\n",
            "- Ireland: 1\n",
            "- Vaiskhaki River Cruise: 1\n",
            "- Dhaka University Alumni in the UK: 1\n",
            "- Bangladesh Day Parade: 1\n",
            "- Housing Authority: 1\n",
            "- Queensboro Dance Festival: 1\n",
            "- Amir Uzzaman Tutul: 1\n",
            "- Saree goes global: 1\n",
            "- Nobel Prize: 1\n",
            "- Ellis Munro: 1\n",
            "- Haider Akbar Khan Rono: 1\n",
            "- Nurul Alam Lal: 1\n",
            "- Paraben: 1\n",
            "- Shilpa Ghar: 1\n",
            "- Sharmeen Akhtar: 1\n",
            "- Salimullah Khan: 1\n",
            "- Sitangshu Guha: 1\n",
            "- Romeen Laiys: 1\n",
            "- Abdul Gaffar Chowdhury: 1\n",
            "- Rafiqul Islam: 1\n",
            "- Tofail Ahmed: 1\n",
            "- Arafat Rahman Coco: 1\n",
            "- Salahuddin Ahmed: 1\n",
            "- Jahangir Alam Akash: 1\n",
            "- Bangladesh Football Team: 1\n",
            "- Farakka Barrage: 1\n",
            "- Dejaller Desh: 1\n",
            "- Ibrahim Chowdhury: 1\n"
          ]
        }
      ]
    }
  ]
}
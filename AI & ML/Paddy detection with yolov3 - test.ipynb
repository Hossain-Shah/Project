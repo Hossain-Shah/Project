{
 "cells": [
  {
   "cell_type": "code",
   "execution_count": 3,
   "metadata": {},
   "outputs": [],
   "source": [
    "from imageai.Detection.Custom import DetectionModelTrainer, CustomObjectDetection\n",
    "from imageai.Detection import ObjectDetection\n",
    "import random, os, cv2"
   ]
  },
  {
   "cell_type": "code",
   "execution_count": 4,
   "metadata": {},
   "outputs": [
    {
     "name": "stdout",
     "output_type": "stream",
     "text": [
      "Generating anchor boxes for training images and annotation...\n",
      "Average IOU for 9 anchors: 0.72\n",
      "Anchor Boxes generated.\n",
      "Detection configuration saved in  C:/Users/MEDINA TECH/Paddy detection with yolov3/Paddy\\json\\detection_config.json\n",
      "Evaluating over 18 samples taken from C:/Users/MEDINA TECH/Paddy detection with yolov3/Paddy\\validation\n",
      "Training over 60 samples  given at C:/Users/MEDINA TECH/Paddy detection with yolov3/Paddy\\train\n",
      "Training on: \t['Blast', 'False_Smut', 'RiceBug', 'SheathRot', 'StemBorer', 'unrelated_image']\n",
      "Training with Batch Size:  4\n",
      "Number of Training Samples:  60\n",
      "Number of Validation Samples:  18\n",
      "Number of Experiments:  1\n",
      "Training with transfer learning from pretrained Model\n",
      "WARNING:tensorflow:`period` argument is deprecated. Please use `save_freq` to specify the frequency in number of batches seen.\n",
      "WARNING:tensorflow:`epsilon` argument is deprecated and will be removed, use `min_delta` instead.\n"
     ]
    },
    {
     "name": "stderr",
     "output_type": "stream",
     "text": [
      "C:\\Users\\MEDINA TECH\\anaconda3\\lib\\site-packages\\keras\\optimizers\\optimizer_v2\\adam.py:110: UserWarning: The `lr` argument is deprecated, use `learning_rate` instead.\n",
      "  super(Adam, self).__init__(name, **kwargs)\n",
      "C:\\Users\\MEDINA TECH\\AppData\\Roaming\\Python\\Python38\\site-packages\\imageai\\Detection\\Custom\\__init__.py:308: UserWarning: `Model.fit_generator` is deprecated and will be removed in a future version. Please use `Model.fit`, which supports generators.\n",
      "  train_model.fit_generator(\n"
     ]
    },
    {
     "name": "stdout",
     "output_type": "stream",
     "text": [
      "WARNING:tensorflow:Model failed to serialize as JSON. Ignoring... \n",
      "Layer YoloLayer has arguments ['self', 'anchors', 'max_grid', 'batch_size', 'warmup_batches', 'ignore_thresh', 'grid_scale', 'obj_scale', 'noobj_scale', 'xywh_scale', 'class_scale']\n",
      "in `__init__` and therefore must override `get_config()`.\n",
      "\n",
      "Example:\n",
      "\n",
      "class CustomLayer(keras.layers.Layer):\n",
      "    def __init__(self, arg1, arg2):\n",
      "        super().__init__()\n",
      "        self.arg1 = arg1\n",
      "        self.arg2 = arg2\n",
      "\n",
      "    def get_config(self):\n",
      "        config = super().get_config()\n",
      "        config.update({\n",
      "            \"arg1\": self.arg1,\n",
      "            \"arg2\": self.arg2,\n",
      "        })\n",
      "        return config\n"
     ]
    },
    {
     "name": "stderr",
     "output_type": "stream",
     "text": [
      "C:\\Users\\MEDINA TECH\\anaconda3\\lib\\site-packages\\tensorflow\\python\\data\\ops\\structured_function.py:264: UserWarning: Even though the `tf.config.experimental_run_functions_eagerly` option is set, this option does not apply to tf.data functions. To force eager execution of tf.data functions, please use `tf.data.experimental.enable_debug_mode()`.\n",
      "  warnings.warn(\n"
     ]
    },
    {
     "name": "stdout",
     "output_type": "stream",
     "text": [
      "120/120 [==============================] - ETA: 0s - loss: 75.0992 - yolo_layer_6_loss: 9.7389 - yolo_layer_7_loss: 17.1036 - yolo_layer_8_loss: 36.6770WARNING:tensorflow:Compiled the loaded model, but the compiled metrics have yet to be built. `model.compile_metrics` will be empty until you train or evaluate the model.\n",
      "120/120 [==============================] - 1083s 9s/step - loss: 75.0992 - yolo_layer_6_loss: 9.7389 - yolo_layer_7_loss: 17.1036 - yolo_layer_8_loss: 36.6770 - val_loss: 73.8497 - val_yolo_layer_6_loss: 7.7199 - val_yolo_layer_7_loss: 14.7626 - val_yolo_layer_8_loss: 39.7908 - lr: 1.0000e-04\n"
     ]
    }
   ],
   "source": [
    "trainer = DetectionModelTrainer()\n",
    "trainer.setModelTypeAsYOLOv3()\n",
    "trainer.setDataDirectory(data_directory=\"C:/Users/MEDINA TECH/Paddy detection with yolov3/Paddy\")\n",
    "trainer.setTrainConfig(object_names_array=[\"Blast\", \"False_Smut\", \"RiceBug\", \"SheathRot\", \"StemBorer\", \"unrelated_image\"], batch_size=4, num_experiments=1, \n",
    "                       train_from_pretrained_model=\"C:/Users/MEDINA TECH/Paddy detection with yolov3/yolov3.h5\")\n",
    "trainer.trainModel()"
   ]
  },
  {
   "cell_type": "code",
   "execution_count": 5,
   "metadata": {},
   "outputs": [
    {
     "name": "stdout",
     "output_type": "stream",
     "text": [
      "Starting Model evaluation....\n",
      "Evaluating over 18 samples taken from C:/Users/MEDINA TECH/Paddy detection with yolov3/Paddy\\validation\n",
      "Training over 60 samples  given at C:/Users/MEDINA TECH/Paddy detection with yolov3/Paddy\\train\n",
      "WARNING:tensorflow:No training configuration found in the save file, so the model was *not* compiled. Compile it manually.\n",
      "Model File:  C:/Users/MEDINA TECH/Paddy detection with yolov3/Paddy/models/detection_model-ex-001--loss-0075.099.h5 \n",
      "\n",
      "Evaluation samples:  18\n",
      "Using IoU:  0.5\n",
      "Using Object Threshold:  0.3\n",
      "Using Non-Maximum Suppression:  0.5\n",
      "Blast: 0.0000\n",
      "False_Smut: 0.0000\n",
      "RiceBug: 0.0000\n",
      "SheathRot: 0.0000\n",
      "StemBorer: 0.0000\n",
      "unrelated_image: 0.0000\n",
      "mAP: 0.0000\n",
      "===============================\n"
     ]
    },
    {
     "data": {
      "text/plain": [
       "[{'model_file': 'C:/Users/MEDINA TECH/Paddy detection with yolov3/Paddy/models/detection_model-ex-001--loss-0075.099.h5',\n",
       "  'using_iou': 0.5,\n",
       "  'using_object_threshold': 0.3,\n",
       "  'using_non_maximum_suppression': 0.5,\n",
       "  'average_precision': {'Blast': 0.0,\n",
       "   'False_Smut': 0.0,\n",
       "   'RiceBug': 0.0,\n",
       "   'SheathRot': 0.0,\n",
       "   'StemBorer': 0.0,\n",
       "   'unrelated_image': 0.0},\n",
       "  'evaluation_samples': 18,\n",
       "  'map': 0.0}]"
      ]
     },
     "execution_count": 5,
     "metadata": {},
     "output_type": "execute_result"
    }
   ],
   "source": [
    "trainer.evaluateModel(model_path=\"C:/Users/MEDINA TECH/Paddy detection with yolov3/Paddy/models/detection_model-ex-001--loss-0075.099.h5\", \n",
    "                      json_path=\"C:/Users/MEDINA TECH/Paddy detection with yolov3/Paddy/json/detection_config.json\", iou_threshold=0.5, \n",
    "                      object_threshold=0.3, nms_threshold=0.5)"
   ]
  },
  {
   "cell_type": "code",
   "execution_count": 9,
   "metadata": {},
   "outputs": [
    {
     "name": "stdout",
     "output_type": "stream",
     "text": [
      "Starting Model evaluation....\n",
      "Evaluating over 18 samples taken from C:/Users/MEDINA TECH/Paddy detection with yolov3/Paddy\\validation\n",
      "Training over 60 samples  given at C:/Users/MEDINA TECH/Paddy detection with yolov3/Paddy\\train\n",
      "WARNING:tensorflow:No training configuration found in the save file, so the model was *not* compiled. Compile it manually.\n",
      "Model File:  C:/Users/MEDINA TECH/Paddy detection with yolov3/Paddy/models/detection_model-ex-001--loss-0075.099.h5 \n",
      "\n",
      "Evaluation samples:  18\n",
      "Using IoU:  0.5\n",
      "Using Object Threshold:  0.3\n",
      "Using Non-Maximum Suppression:  0.5\n",
      "Blast: 0.0000\n",
      "False_Smut: 0.0000\n",
      "RiceBug: 0.0000\n",
      "SheathRot: 0.0000\n",
      "StemBorer: 0.0000\n",
      "unrelated_image: 0.0000\n",
      "mAP: 0.0000\n",
      "===============================\n",
      "Iteration 01: {'Blast': 0.0, 'False_Smut': 0.0, 'RiceBug': 0.0, 'SheathRot': 0.0, 'StemBorer': 0.0, 'unrelated_image': 0.0}\n"
     ]
    }
   ],
   "source": [
    "model = trainer.evaluateModel(model_path=\"C:/Users/MEDINA TECH/Paddy detection with yolov3/Paddy/models/detection_model-ex-001--loss-0075.099.h5\", \n",
    "                      json_path=\"C:/Users/MEDINA TECH/Paddy detection with yolov3/Paddy/json/detection_config.json\", iou_threshold=0.5, \n",
    "                      object_threshold=0.3, nms_threshold=0.5)\n",
    "print('Iteration 01:', model[0]['average_precision'])"
   ]
  },
  {
   "cell_type": "code",
   "execution_count": 9,
   "metadata": {},
   "outputs": [],
   "source": [
    "detector = CustomObjectDetection()\n",
    "detector.setModelTypeAsYOLOv3()\n",
    "detector.setModelPath(\"C:/Users/MEDINA TECH/Paddy detection with yolov3/Paddy/models/detection_model-ex-001--loss-0075.099.h5\")\n",
    "detector.setJsonPath(\"C:/Users/MEDINA TECH/Paddy detection with yolov3/Paddy/json/detection_config.json\")\n",
    "detector.loadModel()"
   ]
  },
  {
   "cell_type": "code",
   "execution_count": 20,
   "metadata": {},
   "outputs": [],
   "source": [
    "def showImage(img):\n",
    "    window_name = 'image'\n",
    "    cv2.imshow(window_name, img)\n",
    "    cv2.waitKey(0)\n",
    "    cv2.destroyAllWindows()"
   ]
  },
  {
   "cell_type": "code",
   "execution_count": 22,
   "metadata": {},
   "outputs": [
    {
     "name": "stdout",
     "output_type": "stream",
     "text": [
      "1/1 [==============================] - 1s 559ms/step\n"
     ]
    }
   ],
   "source": [
    "crop_disease_pestImages = os.listdir(\"E:/Official purpose/2021/Sprint - 26/Crop images\")\n",
    "randomFile = crop_disease_pestImages[random.randint(0, len(crop_disease_pestImages) - 1)]\n",
    "\n",
    "detectedImage, detections = detector.detectObjectsFromImage(output_type=\"array\", input_image=\"E:/Official purpose/2021/Sprint - 26/Crop images/{0}\".format(randomFile), minimum_percentage_probability=30)\n",
    "convertedImage = cv2.cvtColor(detectedImage, cv2.COLOR_RGB2BGR)\n",
    "showImage(convertedImage)\n",
    "\n",
    "for eachObject in detections:\n",
    "    print(eachObject[\"name\"] , \" : \", eachObject[\"percentage_probability\"], \" : \", eachObject[\"box_points\"] )\n",
    "    print(\"--------------------------------\")"
   ]
  },
  {
   "cell_type": "code",
   "execution_count": 7,
   "metadata": {},
   "outputs": [],
   "source": [
    "pretrained_detector = ObjectDetection()\n",
    "pretrained_detector.setModelTypeAsYOLOv3()\n",
    "pretrained_detector.setModelPath('C:/Users/MEDINA TECH/Paddy detection with yolov3/yolo.h5')\n",
    "pretrained_detector.loadModel()\n",
    "\n",
    "custom_detector = CustomObjectDetection()\n",
    "custom_detector.setModelTypeAsYOLOv3()\n",
    "custom_detector.setModelPath(\"C:/Users/MEDINA TECH/Paddy detection with yolov3/Paddy/models/detection_model-ex-001--loss-0075.099.h5\")\n",
    "custom_detector.setJsonPath(\"C:/Users/MEDINA TECH/Paddy detection with yolov3/Paddy/json/detection_config.json\")\n",
    "custom_detector.loadModel()"
   ]
  },
  {
   "cell_type": "code",
   "execution_count": 11,
   "metadata": {},
   "outputs": [
    {
     "name": "stderr",
     "output_type": "stream",
     "text": [
      "<ipython-input-11-6f9d20e67c81>:6: DeprecationWarning: 'detectCustomObjectsFromImage()' function has been deprecated and will be removed in future versions of ImageAI. \n",
      " Kindly use 'detectObjectsFromImage()' \n",
      "  _, pretrained_detections = pretrained_detector.detectCustomObjectsFromImage(custom_objects=objectOnly, output_type=\"array\", input_image=\"E:/Official purpose/2021/Sprint - 26/Crop images/{0}\".format(randomFile), minimum_percentage_probability=30)\n",
      "C:\\Users\\MEDINA TECH\\anaconda3\\lib\\site-packages\\tensorflow\\python\\data\\ops\\structured_function.py:264: UserWarning: Even though the `tf.config.experimental_run_functions_eagerly` option is set, this option does not apply to tf.data functions. To force eager execution of tf.data functions, please use `tf.data.experimental.enable_debug_mode()`.\n",
      "  warnings.warn(\n"
     ]
    },
    {
     "name": "stdout",
     "output_type": "stream",
     "text": [
      "1/1 [==============================] - 1s 789ms/step\n",
      "1/1 [==============================] - 1s 515ms/step\n"
     ]
    }
   ],
   "source": [
    "crop_disease_pestImages = os.listdir(\"E:/Official purpose/2021/Sprint - 26/Crop images\")\n",
    "randomFile = crop_disease_pestImages[random.randint(0, len(crop_disease_pestImages) - 1)]\n",
    "\n",
    "objectOnly = pretrained_detector.CustomObjects(person=True)\n",
    "\n",
    "_, pretrained_detections = pretrained_detector.detectCustomObjectsFromImage(custom_objects=objectOnly, output_type=\"array\", input_image=\"E:/Official purpose/2021/Sprint - 26/Crop images/{0}\".format(randomFile), minimum_percentage_probability=30)\n",
    "\n",
    "_, custom_detections = custom_detector.detectObjectsFromImage(output_type=\"array\", input_image=\"E:/Official purpose/2021/Sprint - 26/Crop images/{0}\".format(randomFile), minimum_percentage_probability=30)"
   ]
  },
  {
   "cell_type": "code",
   "execution_count": 13,
   "metadata": {},
   "outputs": [],
   "source": [
    "if len(pretrained_detections) > len(custom_detections):\n",
    "  print(\"Crop disease, pest detected! Alerts have been dispatched!\")"
   ]
  }
 ],
 "metadata": {
  "kernelspec": {
   "display_name": "Python 3",
   "language": "python",
   "name": "python3"
  },
  "language_info": {
   "codemirror_mode": {
    "name": "ipython",
    "version": 3
   },
   "file_extension": ".py",
   "mimetype": "text/x-python",
   "name": "python",
   "nbconvert_exporter": "python",
   "pygments_lexer": "ipython3",
   "version": "3.8.5"
  }
 },
 "nbformat": 4,
 "nbformat_minor": 4
}

{
  "nbformat": 4,
  "nbformat_minor": 0,
  "metadata": {
    "colab": {
      "provenance": []
    },
    "kernelspec": {
      "name": "python3",
      "display_name": "Python 3"
    },
    "language_info": {
      "name": "python"
    }
  },
  "cells": [
    {
      "cell_type": "code",
      "execution_count": 1,
      "metadata": {
        "colab": {
          "base_uri": "https://localhost:8080/",
          "height": 191
        },
        "id": "Muct4L_Ek6-r",
        "outputId": "415b564f-39bd-4c60-9c15-00d16abb1747"
      },
      "outputs": [
        {
          "output_type": "stream",
          "name": "stdout",
          "text": [
            "\u001b[?25l     \u001b[90m━━━━━━━━━━━━━━━━━━━━━━━━━━━━━━━━━━━━━━━━\u001b[0m \u001b[32m0.0/150.7 kB\u001b[0m \u001b[31m?\u001b[0m eta \u001b[36m-:--:--\u001b[0m\r\u001b[2K     \u001b[91m━━━━━━━━━━\u001b[0m\u001b[91m╸\u001b[0m\u001b[90m━━━━━━━━━━━━━━━━━━━━━━━━━━━━━\u001b[0m \u001b[32m41.0/150.7 kB\u001b[0m \u001b[31m1.2 MB/s\u001b[0m eta \u001b[36m0:00:01\u001b[0m\r\u001b[2K     \u001b[90m━━━━━━━━━━━━━━━━━━━━━━━━━━━━━━━━━━━━━━━━\u001b[0m \u001b[32m150.7/150.7 kB\u001b[0m \u001b[31m2.3 MB/s\u001b[0m eta \u001b[36m0:00:00\u001b[0m\n",
            "\u001b[?25h\u001b[?25l     \u001b[90m━━━━━━━━━━━━━━━━━━━━━━━━━━━━━━━━━━━━━━━━\u001b[0m \u001b[32m0.0/677.8 kB\u001b[0m \u001b[31m?\u001b[0m eta \u001b[36m-:--:--\u001b[0m\r\u001b[2K     \u001b[90m━━━━━━━━━━━━━━━━━━━━━━━━━━━━━━━━━━━━━━━━\u001b[0m \u001b[32m677.8/677.8 kB\u001b[0m \u001b[31m24.9 MB/s\u001b[0m eta \u001b[36m0:00:00\u001b[0m\n",
            "\u001b[?25hmodels/gemini-1.0-pro\n",
            "models/gemini-1.0-pro-001\n",
            "models/gemini-1.0-pro-latest\n",
            "models/gemini-1.0-pro-vision-latest\n",
            "models/gemini-1.5-flash-latest\n",
            "models/gemini-1.5-pro-latest\n",
            "models/gemini-pro\n",
            "models/gemini-pro-vision\n"
          ]
        }
      ],
      "source": [
        "# Install Google's Gemini Libraries\n",
        "!pip install -q -U google-generativeai\n",
        "\n",
        "\n",
        "#Import libraries\n",
        "import google.generativeai as genai\n",
        "from google.colab import userdata\n",
        "from IPython.display import display\n",
        "from IPython.display import Markdown\n",
        "import PIL.Image\n",
        "\n",
        "# configure api key and initialise model\n",
        "from google.colab import userdata\n",
        "import os\n",
        "\n",
        "\n",
        "if \"GOOGLE_API_KEY\" not in os.environ:\n",
        "    os.environ[\"GOOGLE_API_KEY\"] = userdata.get('api_key')\n",
        "\n",
        "genai.configure(api_key=os.environ['GOOGLE_API_KEY'])\n",
        "\n",
        "\n",
        "for m in genai.list_models():\n",
        "  if 'generateContent' in m.supported_generation_methods:\n",
        "    print(m.name)"
      ]
    },
    {
      "cell_type": "code",
      "source": [
        "# Directly Calling API\n",
        "\n",
        "\n",
        "image = PIL.Image.open('/content/drive/MyDrive/Colab_Notebooks/20180404_110003.jpg')\n",
        "vision_model = genai.GenerativeModel('gemini-pro-vision')\n",
        "response = vision_model.generate_content([\"What was the name of the place and whom we can see in  the picture?\",image])\n",
        "\n",
        "print(response.text)"
      ],
      "metadata": {
        "colab": {
          "base_uri": "https://localhost:8080/",
          "height": 34
        },
        "id": "KOEVjK9LnNsx",
        "outputId": "549a2c95-57b3-4686-cdfc-ae1010651159"
      },
      "execution_count": 3,
      "outputs": [
        {
          "output_type": "stream",
          "name": "stdout",
          "text": [
            " The name of the place is Madhupur National Park and the picture shows a group of seven young men standing in front of the park's entrance sign.\n"
          ]
        }
      ]
    },
    {
      "cell_type": "code",
      "source": [
        "response = vision_model.generate_content([\"Convert the information into image in json format?\",image])\n",
        "print(response.text)"
      ],
      "metadata": {
        "colab": {
          "base_uri": "https://localhost:8080/",
          "height": 191
        },
        "id": "D133zr4YoV9U",
        "outputId": "66ad3506-55ab-4046-aacf-b4fc61fef108"
      },
      "execution_count": 4,
      "outputs": [
        {
          "output_type": "stream",
          "name": "stdout",
          "text": [
            " ```json\n",
            "{\n",
            "  \"Image\": {\n",
            "    \"id\": \"1234567890\",\n",
            "    \"url\": \"https://example.com/image.jpg\",\n",
            "    \"caption\": \"A group of friends standing in front of a sign that says 'Madhupur National Park.'\",\n",
            "    \"tags\": [\"friends\", \"nature\", \"travel\", \"Bangladesh\"]\n",
            "  }\n",
            "}\n",
            "```\n"
          ]
        }
      ]
    },
    {
      "cell_type": "code",
      "source": [
        "#install Langchain Standalone package\n",
        "\n",
        "!pip install -U --quiet langchain-google-genai pillow\n",
        "\n",
        "\n",
        "from langchain_google_genai import ChatGoogleGenerativeAI\n",
        "from langchain_core.messages import HumanMessage\n",
        "\n",
        "llm = ChatGoogleGenerativeAI(model=\"gemini-pro-vision\")\n",
        "\n",
        "# example\n",
        "image = PIL.Image.open('/content/drive/MyDrive/Colab_Notebooks/20180404_110003.jpg')\n",
        "\n",
        "hmessage1 = HumanMessage(\n",
        "    content=[\n",
        "        {\n",
        "            \"type\": \"text\",\n",
        "            \"text\": \"What's in this image?\",\n",
        "        },  # You can optionally provide text parts\n",
        "        {\"type\": \"image_url\", \"image_url\": image},\n",
        "    ]\n",
        ")\n",
        "message1 = llm.invoke([hmessage1])\n",
        "print(message1.content)"
      ],
      "metadata": {
        "colab": {
          "base_uri": "https://localhost:8080/"
        },
        "id": "qsEy_XMmo6wI",
        "outputId": "b016ba5d-c1d5-46e0-8e84-134f8ed515e9"
      },
      "execution_count": 5,
      "outputs": [
        {
          "output_type": "stream",
          "name": "stdout",
          "text": [
            "\u001b[2K     \u001b[90m━━━━━━━━━━━━━━━━━━━━━━━━━━━━━━━━━━━━━━━━\u001b[0m \u001b[32m4.5/4.5 MB\u001b[0m \u001b[31m33.9 MB/s\u001b[0m eta \u001b[36m0:00:00\u001b[0m\n",
            "\u001b[2K     \u001b[90m━━━━━━━━━━━━━━━━━━━━━━━━━━━━━━━━━━━━━━━━\u001b[0m \u001b[32m302.9/302.9 kB\u001b[0m \u001b[31m22.7 MB/s\u001b[0m eta \u001b[36m0:00:00\u001b[0m\n",
            "\u001b[2K     \u001b[90m━━━━━━━━━━━━━━━━━━━━━━━━━━━━━━━━━━━━━━━━\u001b[0m \u001b[32m121.1/121.1 kB\u001b[0m \u001b[31m13.5 MB/s\u001b[0m eta \u001b[36m0:00:00\u001b[0m\n",
            "\u001b[2K     \u001b[90m━━━━━━━━━━━━━━━━━━━━━━━━━━━━━━━━━━━━━━━━\u001b[0m \u001b[32m53.0/53.0 kB\u001b[0m \u001b[31m5.9 MB/s\u001b[0m eta \u001b[36m0:00:00\u001b[0m\n",
            "\u001b[2K     \u001b[90m━━━━━━━━━━━━━━━━━━━━━━━━━━━━━━━━━━━━━━━━\u001b[0m \u001b[32m142.5/142.5 kB\u001b[0m \u001b[31m17.4 MB/s\u001b[0m eta \u001b[36m0:00:00\u001b[0m\n",
            "\u001b[?25h\u001b[31mERROR: pip's dependency resolver does not currently take into account all the packages that are installed. This behaviour is the source of the following dependency conflicts.\n",
            "imageio 2.31.6 requires pillow<10.1.0,>=8.3.2, but you have pillow 10.3.0 which is incompatible.\u001b[0m\u001b[31m\n",
            "\u001b[0m The image shows eight young men standing in front of a stone archway. The archway has a sign on it that says \"মধুপুর জাতীয় উদ্যান টাঙ্গাইল বন বিভাগ\" which means \"Madhupur National Park Tangail Forest Department\". The men are all wearing casual clothes and they are all looking at the camera.\n"
          ]
        }
      ]
    },
    {
      "cell_type": "code",
      "source": [
        "# example\n",
        "image = PIL.Image.open('/content/drive/MyDrive/Colab_Notebooks/creative-modern-business-money-receipt-template-bangla-language-money-receipt-invoice-template-design-free-vector.jpg')\n",
        "\n",
        "hmessage1 = HumanMessage(\n",
        "    content=[\n",
        "        {\n",
        "            \"type\": \"text\",\n",
        "            \"text\": \"Convert Invoice data into json format with appropriate json tags as required for the data in image \",\n",
        "        },  # You can optionally provide text parts\n",
        "        {\"type\": \"image_url\", \"image_url\": image},\n",
        "    ]\n",
        ")\n",
        "message1 = llm.invoke([hmessage1])\n",
        "\n",
        "print(message1.content)"
      ],
      "metadata": {
        "colab": {
          "base_uri": "https://localhost:8080/"
        },
        "id": "Y125bur_p9FV",
        "outputId": "90485229-9eac-452d-c7da-ea9431b378b0"
      },
      "execution_count": 6,
      "outputs": [
        {
          "output_type": "stream",
          "name": "stdout",
          "text": [
            " ```json\n",
            "{\n",
            "  \"invoice_no\": \"123456\",\n",
            "  \"invoice_date\": \"2023-03-08\",\n",
            "  \"customer_name\": \"Mark Digital Studio\",\n",
            "  \"customer_address\": \"123 Main Street, Anytown, CA 12345\",\n",
            "  \"items\": [\n",
            "    {\n",
            "      \"item_name\": \"Web Design\",\n",
            "      \"item_description\": \"Design of a new website for the customer.\",\n",
            "      \"item_quantity\": 1,\n",
            "      \"item_price\": 1000.00\n",
            "    },\n",
            "    {\n",
            "      \"item_name\": \"Printing\",\n",
            "      \"item_description\": \"Printing of 1000 business cards for the customer.\",\n",
            "      \"item_quantity\": 1,\n",
            "      \"item_price\": 500.00\n",
            "    },\n",
            "    {\n",
            "      \"item_name\": \"Hosting\",\n",
            "      \"item_description\": \"Hosting of the customer's website for one year.\",\n",
            "      \"item_quantity\": 1,\n",
            "      \"item_price\": 200.00\n",
            "    }\n",
            "  ],\n",
            "  \"subtotal\": 1700.00,\n",
            "  \"tax\": 100.00,\n",
            "  \"total\": 1800.00\n",
            "}\n",
            "```\n"
          ]
        }
      ]
    },
    {
      "cell_type": "code",
      "source": [
        "# example\n",
        "image = PIL.Image.open('/content/drive/MyDrive/Colab_Notebooks/Bangla_LPDB/361.jpg')\n",
        "\n",
        "product_msg = HumanMessage(\n",
        "    content=[\n",
        "        {\n",
        "            \"type\": \"text\",\n",
        "            \"text\": \"Create a json with following tags extracted from image and use information only from image for value of each tag - 'licence code','manufacturer name','manufactured location'\",\n",
        "        },  # You can optionally provide text parts\n",
        "        {\"type\": \"image_url\", \"image_url\": image},\n",
        "    ]\n",
        ")\n",
        "prod_output = llm.invoke([product_msg])\n",
        "\n",
        "print(prod_output.content)"
      ],
      "metadata": {
        "colab": {
          "base_uri": "https://localhost:8080/"
        },
        "id": "Wi1xWrf2qgaM",
        "outputId": "e792d28b-0b07-4929-db61-40a085098e57"
      },
      "execution_count": 10,
      "outputs": [
        {
          "output_type": "stream",
          "name": "stdout",
          "text": [
            " ```json\n",
            "{\n",
            "  \"licence code\": \"DHAKA METRO-11 05-9486\",\n",
            "  \"manufacturer name\": \"Toyota\",\n",
            "  \"manufactured location\": \"Japan\"\n",
            "}\n",
            "```\n"
          ]
        }
      ]
    }
  ]
}
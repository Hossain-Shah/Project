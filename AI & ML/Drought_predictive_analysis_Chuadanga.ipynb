{
  "nbformat": 4,
  "nbformat_minor": 0,
  "metadata": {
    "colab": {
      "provenance": []
    },
    "kernelspec": {
      "name": "python3",
      "display_name": "Python 3"
    },
    "language_info": {
      "name": "python"
    },
    "accelerator": "GPU",
    "gpuClass": "standard"
  },
  "cells": [
    {
      "cell_type": "code",
      "execution_count": 1,
      "metadata": {
        "id": "oEvCk8QlEdMG"
      },
      "outputs": [],
      "source": [
        "import numpy as np\n",
        "import pandas as pd\n",
        "import matplotlib.pyplot as plt\n",
        "import seaborn as sns"
      ]
    },
    {
      "cell_type": "code",
      "source": [
        "df = pd.read_csv(\"/content/drive/MyDrive/Colab Notebooks/Drought_dataset_Chuadanga.csv\")\n",
        "df.head(10)"
      ],
      "metadata": {
        "colab": {
          "base_uri": "https://localhost:8080/",
          "height": 322
        },
        "id": "Qgw0sWuHFI0k",
        "outputId": "8931bd0a-cf3b-4483-f1e2-8ca0ea812eff"
      },
      "execution_count": 2,
      "outputs": [
        {
          "output_type": "execute_result",
          "data": {
            "text/plain": [
              "     Station  Year  Month  Temperature  Rainfall\n",
              "0  Chuadanga  1994      1        18.80      9.00\n",
              "1  Chuadanga  1994      2        24.80     15.44\n",
              "2  Chuadanga  1994      3        28.90     35.33\n",
              "3  Chuadanga  1994      4        32.90     47.11\n",
              "4  Chuadanga  1994      5        34.70    119.11\n",
              "5  Chuadanga  1994      6        31.00    225.78\n",
              "6  Chuadanga  1994      7        30.25    366.89\n",
              "7  Chuadanga  1994      8        30.80    209.56\n",
              "8  Chuadanga  1994      9        30.25    321.44\n",
              "9  Chuadanga  1994     10        29.30    186.67"
            ],
            "text/html": [
              "\n",
              "  <div id=\"df-bbea324e-4fa1-4ff5-8fbf-fde7445eeb5b\">\n",
              "    <div class=\"colab-df-container\">\n",
              "      <div>\n",
              "<style scoped>\n",
              "    .dataframe tbody tr th:only-of-type {\n",
              "        vertical-align: middle;\n",
              "    }\n",
              "\n",
              "    .dataframe tbody tr th {\n",
              "        vertical-align: top;\n",
              "    }\n",
              "\n",
              "    .dataframe thead th {\n",
              "        text-align: right;\n",
              "    }\n",
              "</style>\n",
              "<table border=\"1\" class=\"dataframe\">\n",
              "  <thead>\n",
              "    <tr style=\"text-align: right;\">\n",
              "      <th></th>\n",
              "      <th>Station</th>\n",
              "      <th>Year</th>\n",
              "      <th>Month</th>\n",
              "      <th>Temperature</th>\n",
              "      <th>Rainfall</th>\n",
              "    </tr>\n",
              "  </thead>\n",
              "  <tbody>\n",
              "    <tr>\n",
              "      <th>0</th>\n",
              "      <td>Chuadanga</td>\n",
              "      <td>1994</td>\n",
              "      <td>1</td>\n",
              "      <td>18.80</td>\n",
              "      <td>9.00</td>\n",
              "    </tr>\n",
              "    <tr>\n",
              "      <th>1</th>\n",
              "      <td>Chuadanga</td>\n",
              "      <td>1994</td>\n",
              "      <td>2</td>\n",
              "      <td>24.80</td>\n",
              "      <td>15.44</td>\n",
              "    </tr>\n",
              "    <tr>\n",
              "      <th>2</th>\n",
              "      <td>Chuadanga</td>\n",
              "      <td>1994</td>\n",
              "      <td>3</td>\n",
              "      <td>28.90</td>\n",
              "      <td>35.33</td>\n",
              "    </tr>\n",
              "    <tr>\n",
              "      <th>3</th>\n",
              "      <td>Chuadanga</td>\n",
              "      <td>1994</td>\n",
              "      <td>4</td>\n",
              "      <td>32.90</td>\n",
              "      <td>47.11</td>\n",
              "    </tr>\n",
              "    <tr>\n",
              "      <th>4</th>\n",
              "      <td>Chuadanga</td>\n",
              "      <td>1994</td>\n",
              "      <td>5</td>\n",
              "      <td>34.70</td>\n",
              "      <td>119.11</td>\n",
              "    </tr>\n",
              "    <tr>\n",
              "      <th>5</th>\n",
              "      <td>Chuadanga</td>\n",
              "      <td>1994</td>\n",
              "      <td>6</td>\n",
              "      <td>31.00</td>\n",
              "      <td>225.78</td>\n",
              "    </tr>\n",
              "    <tr>\n",
              "      <th>6</th>\n",
              "      <td>Chuadanga</td>\n",
              "      <td>1994</td>\n",
              "      <td>7</td>\n",
              "      <td>30.25</td>\n",
              "      <td>366.89</td>\n",
              "    </tr>\n",
              "    <tr>\n",
              "      <th>7</th>\n",
              "      <td>Chuadanga</td>\n",
              "      <td>1994</td>\n",
              "      <td>8</td>\n",
              "      <td>30.80</td>\n",
              "      <td>209.56</td>\n",
              "    </tr>\n",
              "    <tr>\n",
              "      <th>8</th>\n",
              "      <td>Chuadanga</td>\n",
              "      <td>1994</td>\n",
              "      <td>9</td>\n",
              "      <td>30.25</td>\n",
              "      <td>321.44</td>\n",
              "    </tr>\n",
              "    <tr>\n",
              "      <th>9</th>\n",
              "      <td>Chuadanga</td>\n",
              "      <td>1994</td>\n",
              "      <td>10</td>\n",
              "      <td>29.30</td>\n",
              "      <td>186.67</td>\n",
              "    </tr>\n",
              "  </tbody>\n",
              "</table>\n",
              "</div>\n",
              "      <button class=\"colab-df-convert\" onclick=\"convertToInteractive('df-bbea324e-4fa1-4ff5-8fbf-fde7445eeb5b')\"\n",
              "              title=\"Convert this dataframe to an interactive table.\"\n",
              "              style=\"display:none;\">\n",
              "        \n",
              "  <svg xmlns=\"http://www.w3.org/2000/svg\" height=\"24px\"viewBox=\"0 0 24 24\"\n",
              "       width=\"24px\">\n",
              "    <path d=\"M0 0h24v24H0V0z\" fill=\"none\"/>\n",
              "    <path d=\"M18.56 5.44l.94 2.06.94-2.06 2.06-.94-2.06-.94-.94-2.06-.94 2.06-2.06.94zm-11 1L8.5 8.5l.94-2.06 2.06-.94-2.06-.94L8.5 2.5l-.94 2.06-2.06.94zm10 10l.94 2.06.94-2.06 2.06-.94-2.06-.94-.94-2.06-.94 2.06-2.06.94z\"/><path d=\"M17.41 7.96l-1.37-1.37c-.4-.4-.92-.59-1.43-.59-.52 0-1.04.2-1.43.59L10.3 9.45l-7.72 7.72c-.78.78-.78 2.05 0 2.83L4 21.41c.39.39.9.59 1.41.59.51 0 1.02-.2 1.41-.59l7.78-7.78 2.81-2.81c.8-.78.8-2.07 0-2.86zM5.41 20L4 18.59l7.72-7.72 1.47 1.35L5.41 20z\"/>\n",
              "  </svg>\n",
              "      </button>\n",
              "      \n",
              "  <style>\n",
              "    .colab-df-container {\n",
              "      display:flex;\n",
              "      flex-wrap:wrap;\n",
              "      gap: 12px;\n",
              "    }\n",
              "\n",
              "    .colab-df-convert {\n",
              "      background-color: #E8F0FE;\n",
              "      border: none;\n",
              "      border-radius: 50%;\n",
              "      cursor: pointer;\n",
              "      display: none;\n",
              "      fill: #1967D2;\n",
              "      height: 32px;\n",
              "      padding: 0 0 0 0;\n",
              "      width: 32px;\n",
              "    }\n",
              "\n",
              "    .colab-df-convert:hover {\n",
              "      background-color: #E2EBFA;\n",
              "      box-shadow: 0px 1px 2px rgba(60, 64, 67, 0.3), 0px 1px 3px 1px rgba(60, 64, 67, 0.15);\n",
              "      fill: #174EA6;\n",
              "    }\n",
              "\n",
              "    [theme=dark] .colab-df-convert {\n",
              "      background-color: #3B4455;\n",
              "      fill: #D2E3FC;\n",
              "    }\n",
              "\n",
              "    [theme=dark] .colab-df-convert:hover {\n",
              "      background-color: #434B5C;\n",
              "      box-shadow: 0px 1px 3px 1px rgba(0, 0, 0, 0.15);\n",
              "      filter: drop-shadow(0px 1px 2px rgba(0, 0, 0, 0.3));\n",
              "      fill: #FFFFFF;\n",
              "    }\n",
              "  </style>\n",
              "\n",
              "      <script>\n",
              "        const buttonEl =\n",
              "          document.querySelector('#df-bbea324e-4fa1-4ff5-8fbf-fde7445eeb5b button.colab-df-convert');\n",
              "        buttonEl.style.display =\n",
              "          google.colab.kernel.accessAllowed ? 'block' : 'none';\n",
              "\n",
              "        async function convertToInteractive(key) {\n",
              "          const element = document.querySelector('#df-bbea324e-4fa1-4ff5-8fbf-fde7445eeb5b');\n",
              "          const dataTable =\n",
              "            await google.colab.kernel.invokeFunction('convertToInteractive',\n",
              "                                                     [key], {});\n",
              "          if (!dataTable) return;\n",
              "\n",
              "          const docLinkHtml = 'Like what you see? Visit the ' +\n",
              "            '<a target=\"_blank\" href=https://colab.research.google.com/notebooks/data_table.ipynb>data table notebook</a>'\n",
              "            + ' to learn more about interactive tables.';\n",
              "          element.innerHTML = '';\n",
              "          dataTable['output_type'] = 'display_data';\n",
              "          await google.colab.output.renderOutput(dataTable, element);\n",
              "          const docLink = document.createElement('div');\n",
              "          docLink.innerHTML = docLinkHtml;\n",
              "          element.appendChild(docLink);\n",
              "        }\n",
              "      </script>\n",
              "    </div>\n",
              "  </div>\n",
              "  "
            ]
          },
          "metadata": {},
          "execution_count": 2
        }
      ]
    },
    {
      "cell_type": "code",
      "source": [
        "df.drop(df[(df['Month']==2) & (df['Year']%4!=0)].index,inplace=True)\n",
        "df.drop(df[(df['Month']==2) & (df['Year']%4==0)].index,inplace=True)\n",
        "df.drop(df[((df['Month']==4)|(df['Month']==6)|(df['Month']==9)|(df['Month']==11))].index,inplace=True)"
      ],
      "metadata": {
        "id": "-wf9OnvJHdn6"
      },
      "execution_count": 3,
      "outputs": []
    },
    {
      "cell_type": "code",
      "source": [
        "df.size"
      ],
      "metadata": {
        "colab": {
          "base_uri": "https://localhost:8080/"
        },
        "id": "t1_Wl_oBIiZv",
        "outputId": "b3525d5f-53a0-469c-8a5b-4674c6c8259c"
      },
      "execution_count": 4,
      "outputs": [
        {
          "output_type": "execute_result",
          "data": {
            "text/plain": [
              "945"
            ]
          },
          "metadata": {},
          "execution_count": 4
        }
      ]
    },
    {
      "cell_type": "code",
      "source": [
        "df.plot(x='Year',y='Rainfall',style='.', figsize=(15,5))"
      ],
      "metadata": {
        "colab": {
          "base_uri": "https://localhost:8080/",
          "height": 381
        },
        "id": "Gq67MlJdL2Wu",
        "outputId": "1fda4b08-0264-46b6-c3b6-f427772c88c8"
      },
      "execution_count": 5,
      "outputs": [
        {
          "output_type": "execute_result",
          "data": {
            "text/plain": [
              "<Axes: xlabel='Year'>"
            ]
          },
          "metadata": {},
          "execution_count": 5
        },
        {
          "output_type": "display_data",
          "data": {
            "text/plain": [
              "<Figure size 1500x500 with 1 Axes>"
            ],
            "image/png": "[encoded data removed]"
          },
          "metadata": {}
        }
      ]
    },
    {
      "cell_type": "code",
      "source": [
        "df.plot(x='Year',y='Temperature',style='.', figsize=(15,5))"
      ],
      "metadata": {
        "colab": {
          "base_uri": "https://localhost:8080/",
          "height": 380
        },
        "id": "8eb3oeZbL_8t",
        "outputId": "1e6e42ea-9f64-4f8a-ab3f-8583c23522f8"
      },
      "execution_count": 6,
      "outputs": [
        {
          "output_type": "execute_result",
          "data": {
            "text/plain": [
              "<Axes: xlabel='Year'>"
            ]
          },
          "metadata": {},
          "execution_count": 6
        },
        {
          "output_type": "display_data",
          "data": {
            "text/plain": [
              "<Figure size 1500x500 with 1 Axes>"
            ],
            "image/png": "[encoded data removed]"
          },
          "metadata": {}
        }
      ]
    },
    {
      "cell_type": "code",
      "source": [
        "train = df.loc[df['Year'] <= 2016]\n",
        "test = df.loc[df['Year'] >= 2017]\n",
        "train=train[train['Station']=='Chuadanga']\n",
        "test=test[test['Station']=='Chuadanga']"
      ],
      "metadata": {
        "id": "PLOf2bAdMLWS"
      },
      "execution_count": 7,
      "outputs": []
    },
    {
      "cell_type": "code",
      "source": [
        "train.size"
      ],
      "metadata": {
        "colab": {
          "base_uri": "https://localhost:8080/"
        },
        "id": "qAYg_x0xu2OW",
        "outputId": "bce109b6-a126-4585-8b89-3756585bc7a7"
      },
      "execution_count": 8,
      "outputs": [
        {
          "output_type": "execute_result",
          "data": {
            "text/plain": [
              "810"
            ]
          },
          "metadata": {},
          "execution_count": 8
        }
      ]
    },
    {
      "cell_type": "code",
      "source": [
        "X_train=train.drop(['Station', 'Month', 'Temperature', 'Rainfall'], axis=1)\n",
        "Y_train=train['Rainfall']"
      ],
      "metadata": {
        "id": "UvkIEjWivP_g"
      },
      "execution_count": 9,
      "outputs": []
    },
    {
      "cell_type": "code",
      "source": [
        "X_test=test.drop(['Station', 'Month', 'Temperature', 'Rainfall'],axis=1)\n",
        "Y_test=test['Rainfall']"
      ],
      "metadata": {
        "id": "kX74kQ8YwZPh"
      },
      "execution_count": 10,
      "outputs": []
    },
    {
      "cell_type": "code",
      "source": [
        "from sklearn.svm import SVR\n",
        "regressor=SVR(gamma='scale',kernel='linear')\n",
        "regressor.fit(X_train,Y_train)\n",
        "Y_pred = regressor.predict(X_test)"
      ],
      "metadata": {
        "id": "81HRSanhw1pY"
      },
      "execution_count": 11,
      "outputs": []
    },
    {
      "cell_type": "code",
      "source": [
        "df1_val = pd.DataFrame({'Actual Rainfall': Y_test, 'Predicted Rainfall': Y_pred})  \n",
        "df1_val[df1_val['Predicted Rainfall']>=0]"
      ],
      "metadata": {
        "colab": {
          "base_uri": "https://localhost:8080/",
          "height": 896
        },
        "id": "kMN0Bfht_q8l",
        "outputId": "8806d0bf-ca01-4542-fe67-2f06198e9530"
      },
      "execution_count": 73,
      "outputs": [
        {
          "output_type": "execute_result",
          "data": {
            "text/plain": [
              "     Actual Rainfall  Predicted Rainfall\n",
              "276             27.0              64.575\n",
              "278              6.0              64.575\n",
              "280             48.0              64.575\n",
              "282            322.0              64.575\n",
              "283            143.0              64.575\n",
              "285            132.0              64.575\n",
              "287              7.0              64.575\n",
              "288              3.0              62.850\n",
              "290              1.0              62.850\n",
              "292            260.0              62.850\n",
              "294            169.0              62.850\n",
              "295            202.0              62.850\n",
              "297            208.0              62.850\n",
              "299              0.0              62.850\n",
              "300              0.0              61.125\n",
              "302              1.0              61.125\n",
              "304            192.0              61.125\n",
              "306            519.0              61.125\n",
              "307            299.0              61.125\n",
              "309            110.0              61.125\n",
              "311              3.0              61.125\n",
              "314             15.0              59.400\n",
              "316            147.0              59.400\n",
              "318            401.0              59.400\n",
              "319            243.0              59.400\n",
              "321            104.0              59.400\n",
              "323              2.0              59.400"
            ],
            "text/html": [
              "\n",
              "  <div id=\"df-3ed6d952-9664-4682-b7a1-ea83026aef38\">\n",
              "    <div class=\"colab-df-container\">\n",
              "      <div>\n",
              "<style scoped>\n",
              "    .dataframe tbody tr th:only-of-type {\n",
              "        vertical-align: middle;\n",
              "    }\n",
              "\n",
              "    .dataframe tbody tr th {\n",
              "        vertical-align: top;\n",
              "    }\n",
              "\n",
              "    .dataframe thead th {\n",
              "        text-align: right;\n",
              "    }\n",
              "</style>\n",
              "<table border=\"1\" class=\"dataframe\">\n",
              "  <thead>\n",
              "    <tr style=\"text-align: right;\">\n",
              "      <th></th>\n",
              "      <th>Actual Rainfall</th>\n",
              "      <th>Predicted Rainfall</th>\n",
              "    </tr>\n",
              "  </thead>\n",
              "  <tbody>\n",
              "    <tr>\n",
              "      <th>276</th>\n",
              "      <td>27.0</td>\n",
              "      <td>64.575</td>\n",
              "    </tr>\n",
              "    <tr>\n",
              "      <th>278</th>\n",
              "      <td>6.0</td>\n",
              "      <td>64.575</td>\n",
              "    </tr>\n",
              "    <tr>\n",
              "      <th>280</th>\n",
              "      <td>48.0</td>\n",
              "      <td>64.575</td>\n",
              "    </tr>\n",
              "    <tr>\n",
              "      <th>282</th>\n",
              "      <td>322.0</td>\n",
              "      <td>64.575</td>\n",
              "    </tr>\n",
              "    <tr>\n",
              "      <th>283</th>\n",
              "      <td>143.0</td>\n",
              "      <td>64.575</td>\n",
              "    </tr>\n",
              "    <tr>\n",
              "      <th>285</th>\n",
              "      <td>132.0</td>\n",
              "      <td>64.575</td>\n",
              "    </tr>\n",
              "    <tr>\n",
              "      <th>287</th>\n",
              "      <td>7.0</td>\n",
              "      <td>64.575</td>\n",
              "    </tr>\n",
              "    <tr>\n",
              "      <th>288</th>\n",
              "      <td>3.0</td>\n",
              "      <td>62.850</td>\n",
              "    </tr>\n",
              "    <tr>\n",
              "      <th>290</th>\n",
              "      <td>1.0</td>\n",
              "      <td>62.850</td>\n",
              "    </tr>\n",
              "    <tr>\n",
              "      <th>292</th>\n",
              "      <td>260.0</td>\n",
              "      <td>62.850</td>\n",
              "    </tr>\n",
              "    <tr>\n",
              "      <th>294</th>\n",
              "      <td>169.0</td>\n",
              "      <td>62.850</td>\n",
              "    </tr>\n",
              "    <tr>\n",
              "      <th>295</th>\n",
              "      <td>202.0</td>\n",
              "      <td>62.850</td>\n",
              "    </tr>\n",
              "    <tr>\n",
              "      <th>297</th>\n",
              "      <td>208.0</td>\n",
              "      <td>62.850</td>\n",
              "    </tr>\n",
              "    <tr>\n",
              "      <th>299</th>\n",
              "      <td>0.0</td>\n",
              "      <td>62.850</td>\n",
              "    </tr>\n",
              "    <tr>\n",
              "      <th>300</th>\n",
              "      <td>0.0</td>\n",
              "      <td>61.125</td>\n",
              "    </tr>\n",
              "    <tr>\n",
              "      <th>302</th>\n",
              "      <td>1.0</td>\n",
              "      <td>61.125</td>\n",
              "    </tr>\n",
              "    <tr>\n",
              "      <th>304</th>\n",
              "      <td>192.0</td>\n",
              "      <td>61.125</td>\n",
              "    </tr>\n",
              "    <tr>\n",
              "      <th>306</th>\n",
              "      <td>519.0</td>\n",
              "      <td>61.125</td>\n",
              "    </tr>\n",
              "    <tr>\n",
              "      <th>307</th>\n",
              "      <td>299.0</td>\n",
              "      <td>61.125</td>\n",
              "    </tr>\n",
              "    <tr>\n",
              "      <th>309</th>\n",
              "      <td>110.0</td>\n",
              "      <td>61.125</td>\n",
              "    </tr>\n",
              "    <tr>\n",
              "      <th>311</th>\n",
              "      <td>3.0</td>\n",
              "      <td>61.125</td>\n",
              "    </tr>\n",
              "    <tr>\n",
              "      <th>314</th>\n",
              "      <td>15.0</td>\n",
              "      <td>59.400</td>\n",
              "    </tr>\n",
              "    <tr>\n",
              "      <th>316</th>\n",
              "      <td>147.0</td>\n",
              "      <td>59.400</td>\n",
              "    </tr>\n",
              "    <tr>\n",
              "      <th>318</th>\n",
              "      <td>401.0</td>\n",
              "      <td>59.400</td>\n",
              "    </tr>\n",
              "    <tr>\n",
              "      <th>319</th>\n",
              "      <td>243.0</td>\n",
              "      <td>59.400</td>\n",
              "    </tr>\n",
              "    <tr>\n",
              "      <th>321</th>\n",
              "      <td>104.0</td>\n",
              "      <td>59.400</td>\n",
              "    </tr>\n",
              "    <tr>\n",
              "      <th>323</th>\n",
              "      <td>2.0</td>\n",
              "      <td>59.400</td>\n",
              "    </tr>\n",
              "  </tbody>\n",
              "</table>\n",
              "</div>\n",
              "      <button class=\"colab-df-convert\" onclick=\"convertToInteractive('df-3ed6d952-9664-4682-b7a1-ea83026aef38')\"\n",
              "              title=\"Convert this dataframe to an interactive table.\"\n",
              "              style=\"display:none;\">\n",
              "        \n",
              "  <svg xmlns=\"http://www.w3.org/2000/svg\" height=\"24px\"viewBox=\"0 0 24 24\"\n",
              "       width=\"24px\">\n",
              "    <path d=\"M0 0h24v24H0V0z\" fill=\"none\"/>\n",
              "    <path d=\"M18.56 5.44l.94 2.06.94-2.06 2.06-.94-2.06-.94-.94-2.06-.94 2.06-2.06.94zm-11 1L8.5 8.5l.94-2.06 2.06-.94-2.06-.94L8.5 2.5l-.94 2.06-2.06.94zm10 10l.94 2.06.94-2.06 2.06-.94-2.06-.94-.94-2.06-.94 2.06-2.06.94z\"/><path d=\"M17.41 7.96l-1.37-1.37c-.4-.4-.92-.59-1.43-.59-.52 0-1.04.2-1.43.59L10.3 9.45l-7.72 7.72c-.78.78-.78 2.05 0 2.83L4 21.41c.39.39.9.59 1.41.59.51 0 1.02-.2 1.41-.59l7.78-7.78 2.81-2.81c.8-.78.8-2.07 0-2.86zM5.41 20L4 18.59l7.72-7.72 1.47 1.35L5.41 20z\"/>\n",
              "  </svg>\n",
              "      </button>\n",
              "      \n",
              "  <style>\n",
              "    .colab-df-container {\n",
              "      display:flex;\n",
              "      flex-wrap:wrap;\n",
              "      gap: 12px;\n",
              "    }\n",
              "\n",
              "    .colab-df-convert {\n",
              "      background-color: #E8F0FE;\n",
              "      border: none;\n",
              "      border-radius: 50%;\n",
              "      cursor: pointer;\n",
              "      display: none;\n",
              "      fill: #1967D2;\n",
              "      height: 32px;\n",
              "      padding: 0 0 0 0;\n",
              "      width: 32px;\n",
              "    }\n",
              "\n",
              "    .colab-df-convert:hover {\n",
              "      background-color: #E2EBFA;\n",
              "      box-shadow: 0px 1px 2px rgba(60, 64, 67, 0.3), 0px 1px 3px 1px rgba(60, 64, 67, 0.15);\n",
              "      fill: #174EA6;\n",
              "    }\n",
              "\n",
              "    [theme=dark] .colab-df-convert {\n",
              "      background-color: #3B4455;\n",
              "      fill: #D2E3FC;\n",
              "    }\n",
              "\n",
              "    [theme=dark] .colab-df-convert:hover {\n",
              "      background-color: #434B5C;\n",
              "      box-shadow: 0px 1px 3px 1px rgba(0, 0, 0, 0.15);\n",
              "      filter: drop-shadow(0px 1px 2px rgba(0, 0, 0, 0.3));\n",
              "      fill: #FFFFFF;\n",
              "    }\n",
              "  </style>\n",
              "\n",
              "      <script>\n",
              "        const buttonEl =\n",
              "          document.querySelector('#df-3ed6d952-9664-4682-b7a1-ea83026aef38 button.colab-df-convert');\n",
              "        buttonEl.style.display =\n",
              "          google.colab.kernel.accessAllowed ? 'block' : 'none';\n",
              "\n",
              "        async function convertToInteractive(key) {\n",
              "          const element = document.querySelector('#df-3ed6d952-9664-4682-b7a1-ea83026aef38');\n",
              "          const dataTable =\n",
              "            await google.colab.kernel.invokeFunction('convertToInteractive',\n",
              "                                                     [key], {});\n",
              "          if (!dataTable) return;\n",
              "\n",
              "          const docLinkHtml = 'Like what you see? Visit the ' +\n",
              "            '<a target=\"_blank\" href=https://colab.research.google.com/notebooks/data_table.ipynb>data table notebook</a>'\n",
              "            + ' to learn more about interactive tables.';\n",
              "          element.innerHTML = '';\n",
              "          dataTable['output_type'] = 'display_data';\n",
              "          await google.colab.output.renderOutput(dataTable, element);\n",
              "          const docLink = document.createElement('div');\n",
              "          docLink.innerHTML = docLinkHtml;\n",
              "          element.appendChild(docLink);\n",
              "        }\n",
              "      </script>\n",
              "    </div>\n",
              "  </div>\n",
              "  "
            ]
          },
          "metadata": {},
          "execution_count": 73
        }
      ]
    },
    {
      "cell_type": "code",
      "source": [
        "plt.figure(figsize=(20,10))\n",
        "plt.scatter(X_test['Year'],Y_test,color='red')\n",
        "plt.plot(X_test['Year'],Y_test,color='green')\n",
        "plt.plot(X_test['Year'],Y_pred,color='blue')"
      ],
      "metadata": {
        "colab": {
          "base_uri": "https://localhost:8080/",
          "height": 512
        },
        "id": "U5t2bNMh-E5-",
        "outputId": "7411695b-6097-4ce6-d08f-cc7d978f16e0"
      },
      "execution_count": 12,
      "outputs": [
        {
          "output_type": "execute_result",
          "data": {
            "text/plain": [
              "[<matplotlib.lines.Line2D at 0x7fb75a551c10>]"
            ]
          },
          "metadata": {},
          "execution_count": 12
        },
        {
          "output_type": "display_data",
          "data": {
            "text/plain": [
              "<Figure size 2000x1000 with 1 Axes>"
            ],
            "image/png": "[encoded data removed]"
          },
          "metadata": {}
        }
      ]
    },
    {
      "cell_type": "code",
      "source": [
        "for i in range(2024,2031):\n",
        "  Y_exp_pred = regressor.predict([[i]])\n",
        "  df1 = pd.DataFrame({'Year': i, 'Predicted Rainfall': Y_exp_pred})  \n",
        "  df1[df1['Predicted Rainfall']>=0]\n",
        "  print(df1)"
      ],
      "metadata": {
        "colab": {
          "base_uri": "https://localhost:8080/"
        },
        "id": "NCc-SauprHFP",
        "outputId": "ca87d152-6aa3-46f5-a24f-7da8452da6b8"
      },
      "execution_count": 32,
      "outputs": [
        {
          "output_type": "stream",
          "name": "stdout",
          "text": [
            "   Year  Predicted Rainfall\n",
            "0  2024                52.5\n",
            "   Year  Predicted Rainfall\n",
            "0  2025              50.775\n",
            "   Year  Predicted Rainfall\n",
            "0  2026               49.05\n",
            "   Year  Predicted Rainfall\n",
            "0  2027              47.325\n",
            "   Year  Predicted Rainfall\n",
            "0  2028                45.6\n",
            "   Year  Predicted Rainfall\n",
            "0  2029              43.875\n",
            "   Year  Predicted Rainfall\n",
            "0  2030               42.15\n"
          ]
        },
        {
          "output_type": "stream",
          "name": "stderr",
          "text": [
            "/usr/local/lib/python3.9/dist-packages/sklearn/base.py:439: UserWarning: X does not have valid feature names, but SVR was fitted with feature names\n",
            "  warnings.warn(\n",
            "/usr/local/lib/python3.9/dist-packages/sklearn/base.py:439: UserWarning: X does not have valid feature names, but SVR was fitted with feature names\n",
            "  warnings.warn(\n",
            "/usr/local/lib/python3.9/dist-packages/sklearn/base.py:439: UserWarning: X does not have valid feature names, but SVR was fitted with feature names\n",
            "  warnings.warn(\n",
            "/usr/local/lib/python3.9/dist-packages/sklearn/base.py:439: UserWarning: X does not have valid feature names, but SVR was fitted with feature names\n",
            "  warnings.warn(\n",
            "/usr/local/lib/python3.9/dist-packages/sklearn/base.py:439: UserWarning: X does not have valid feature names, but SVR was fitted with feature names\n",
            "  warnings.warn(\n",
            "/usr/local/lib/python3.9/dist-packages/sklearn/base.py:439: UserWarning: X does not have valid feature names, but SVR was fitted with feature names\n",
            "  warnings.warn(\n",
            "/usr/local/lib/python3.9/dist-packages/sklearn/base.py:439: UserWarning: X does not have valid feature names, but SVR was fitted with feature names\n",
            "  warnings.warn(\n"
          ]
        }
      ]
    },
    {
      "cell_type": "code",
      "source": [
        "rainfall = [52.5, 50.775, 49.05, 47.325, 45.6, 43.875, 42.15]\n",
        "year = ['2024','2025','2026','2027','2028', '2029', '2030']\n",
        "col= ['w','b','g','y','m', 'c', 'r']\n",
        "\n",
        "plt.pie(rainfall,labels=year, colors= col)\n",
        "\n",
        "plt.title('Rainfall')\n",
        "\n",
        "plt.show()"
      ],
      "metadata": {
        "colab": {
          "base_uri": "https://localhost:8080/",
          "height": 428
        },
        "id": "uE3L4Hc6QVm2",
        "outputId": "5ea9e64e-d3e4-4293-d14f-8f01ea710b25"
      },
      "execution_count": 102,
      "outputs": [
        {
          "output_type": "display_data",
          "data": {
            "text/plain": [
              "<Figure size 640x480 with 1 Axes>"
            ],
            "image/png": "[encoded data removed]"
          },
          "metadata": {}
        }
      ]
    },
    {
      "cell_type": "code",
      "source": [
        "Y_train2=train['Temperature']"
      ],
      "metadata": {
        "id": "Pq1p4jgUAvqT"
      },
      "execution_count": 37,
      "outputs": []
    },
    {
      "cell_type": "code",
      "source": [
        "Y_test2=test['Temperature']"
      ],
      "metadata": {
        "id": "cLW1K4KFA9T1"
      },
      "execution_count": 38,
      "outputs": []
    },
    {
      "cell_type": "code",
      "source": [
        "from sklearn.svm import SVR\n",
        "regressor=SVR(gamma='scale',kernel='linear')\n",
        "regressor.fit(X_train,Y_train2)\n",
        "Y_pred2 = regressor.predict(X_test)"
      ],
      "metadata": {
        "id": "fLiz9pnpBF1k"
      },
      "execution_count": 39,
      "outputs": []
    },
    {
      "cell_type": "code",
      "source": [
        "df2_val = pd.DataFrame({'Actual Temperature': Y_test2, 'Predicted Temperature': Y_pred2})  \n",
        "df2_val[df2_val['Predicted Temperature']>=0]"
      ],
      "metadata": {
        "colab": {
          "base_uri": "https://localhost:8080/",
          "height": 896
        },
        "id": "7-v7e7yiCd1d",
        "outputId": "7ad4dcc7-7a7c-4e36-ea6b-974f005473b9"
      },
      "execution_count": 74,
      "outputs": [
        {
          "output_type": "execute_result",
          "data": {
            "text/plain": [
              "     Actual Temperature  Predicted Temperature\n",
              "276               20.40              28.761905\n",
              "278               26.80              28.761905\n",
              "280               31.90              28.761905\n",
              "282               30.85              28.761905\n",
              "283               31.50              28.761905\n",
              "285               29.45              28.761905\n",
              "287               19.85              28.761905\n",
              "288               20.40              28.692857\n",
              "290               28.75              28.692857\n",
              "292               30.85              28.692857\n",
              "294               30.10              28.692857\n",
              "295               30.65              28.692857\n",
              "297               28.30              28.692857\n",
              "299               22.20              28.692857\n",
              "300               17.70              28.623810\n",
              "302               25.45              28.623810\n",
              "304               31.00              28.623810\n",
              "306               30.35              28.623810\n",
              "307               30.00              28.623810\n",
              "309               27.30              28.623810\n",
              "311               18.40              28.623810\n",
              "314               28.12              28.554762\n",
              "316               31.74              28.554762\n",
              "318               30.60              28.554762\n",
              "319               30.96              28.554762\n",
              "321               28.73              28.554762\n",
              "323               20.27              28.554762"
            ],
            "text/html": [
              "\n",
              "  <div id=\"df-d179b42c-7191-4132-8a7c-ea2636f4035c\">\n",
              "    <div class=\"colab-df-container\">\n",
              "      <div>\n",
              "<style scoped>\n",
              "    .dataframe tbody tr th:only-of-type {\n",
              "        vertical-align: middle;\n",
              "    }\n",
              "\n",
              "    .dataframe tbody tr th {\n",
              "        vertical-align: top;\n",
              "    }\n",
              "\n",
              "    .dataframe thead th {\n",
              "        text-align: right;\n",
              "    }\n",
              "</style>\n",
              "<table border=\"1\" class=\"dataframe\">\n",
              "  <thead>\n",
              "    <tr style=\"text-align: right;\">\n",
              "      <th></th>\n",
              "      <th>Actual Temperature</th>\n",
              "      <th>Predicted Temperature</th>\n",
              "    </tr>\n",
              "  </thead>\n",
              "  <tbody>\n",
              "    <tr>\n",
              "      <th>276</th>\n",
              "      <td>20.40</td>\n",
              "      <td>28.761905</td>\n",
              "    </tr>\n",
              "    <tr>\n",
              "      <th>278</th>\n",
              "      <td>26.80</td>\n",
              "      <td>28.761905</td>\n",
              "    </tr>\n",
              "    <tr>\n",
              "      <th>280</th>\n",
              "      <td>31.90</td>\n",
              "      <td>28.761905</td>\n",
              "    </tr>\n",
              "    <tr>\n",
              "      <th>282</th>\n",
              "      <td>30.85</td>\n",
              "      <td>28.761905</td>\n",
              "    </tr>\n",
              "    <tr>\n",
              "      <th>283</th>\n",
              "      <td>31.50</td>\n",
              "      <td>28.761905</td>\n",
              "    </tr>\n",
              "    <tr>\n",
              "      <th>285</th>\n",
              "      <td>29.45</td>\n",
              "      <td>28.761905</td>\n",
              "    </tr>\n",
              "    <tr>\n",
              "      <th>287</th>\n",
              "      <td>19.85</td>\n",
              "      <td>28.761905</td>\n",
              "    </tr>\n",
              "    <tr>\n",
              "      <th>288</th>\n",
              "      <td>20.40</td>\n",
              "      <td>28.692857</td>\n",
              "    </tr>\n",
              "    <tr>\n",
              "      <th>290</th>\n",
              "      <td>28.75</td>\n",
              "      <td>28.692857</td>\n",
              "    </tr>\n",
              "    <tr>\n",
              "      <th>292</th>\n",
              "      <td>30.85</td>\n",
              "      <td>28.692857</td>\n",
              "    </tr>\n",
              "    <tr>\n",
              "      <th>294</th>\n",
              "      <td>30.10</td>\n",
              "      <td>28.692857</td>\n",
              "    </tr>\n",
              "    <tr>\n",
              "      <th>295</th>\n",
              "      <td>30.65</td>\n",
              "      <td>28.692857</td>\n",
              "    </tr>\n",
              "    <tr>\n",
              "      <th>297</th>\n",
              "      <td>28.30</td>\n",
              "      <td>28.692857</td>\n",
              "    </tr>\n",
              "    <tr>\n",
              "      <th>299</th>\n",
              "      <td>22.20</td>\n",
              "      <td>28.692857</td>\n",
              "    </tr>\n",
              "    <tr>\n",
              "      <th>300</th>\n",
              "      <td>17.70</td>\n",
              "      <td>28.623810</td>\n",
              "    </tr>\n",
              "    <tr>\n",
              "      <th>302</th>\n",
              "      <td>25.45</td>\n",
              "      <td>28.623810</td>\n",
              "    </tr>\n",
              "    <tr>\n",
              "      <th>304</th>\n",
              "      <td>31.00</td>\n",
              "      <td>28.623810</td>\n",
              "    </tr>\n",
              "    <tr>\n",
              "      <th>306</th>\n",
              "      <td>30.35</td>\n",
              "      <td>28.623810</td>\n",
              "    </tr>\n",
              "    <tr>\n",
              "      <th>307</th>\n",
              "      <td>30.00</td>\n",
              "      <td>28.623810</td>\n",
              "    </tr>\n",
              "    <tr>\n",
              "      <th>309</th>\n",
              "      <td>27.30</td>\n",
              "      <td>28.623810</td>\n",
              "    </tr>\n",
              "    <tr>\n",
              "      <th>311</th>\n",
              "      <td>18.40</td>\n",
              "      <td>28.623810</td>\n",
              "    </tr>\n",
              "    <tr>\n",
              "      <th>314</th>\n",
              "      <td>28.12</td>\n",
              "      <td>28.554762</td>\n",
              "    </tr>\n",
              "    <tr>\n",
              "      <th>316</th>\n",
              "      <td>31.74</td>\n",
              "      <td>28.554762</td>\n",
              "    </tr>\n",
              "    <tr>\n",
              "      <th>318</th>\n",
              "      <td>30.60</td>\n",
              "      <td>28.554762</td>\n",
              "    </tr>\n",
              "    <tr>\n",
              "      <th>319</th>\n",
              "      <td>30.96</td>\n",
              "      <td>28.554762</td>\n",
              "    </tr>\n",
              "    <tr>\n",
              "      <th>321</th>\n",
              "      <td>28.73</td>\n",
              "      <td>28.554762</td>\n",
              "    </tr>\n",
              "    <tr>\n",
              "      <th>323</th>\n",
              "      <td>20.27</td>\n",
              "      <td>28.554762</td>\n",
              "    </tr>\n",
              "  </tbody>\n",
              "</table>\n",
              "</div>\n",
              "      <button class=\"colab-df-convert\" onclick=\"convertToInteractive('df-d179b42c-7191-4132-8a7c-ea2636f4035c')\"\n",
              "              title=\"Convert this dataframe to an interactive table.\"\n",
              "              style=\"display:none;\">\n",
              "        \n",
              "  <svg xmlns=\"http://www.w3.org/2000/svg\" height=\"24px\"viewBox=\"0 0 24 24\"\n",
              "       width=\"24px\">\n",
              "    <path d=\"M0 0h24v24H0V0z\" fill=\"none\"/>\n",
              "    <path d=\"M18.56 5.44l.94 2.06.94-2.06 2.06-.94-2.06-.94-.94-2.06-.94 2.06-2.06.94zm-11 1L8.5 8.5l.94-2.06 2.06-.94-2.06-.94L8.5 2.5l-.94 2.06-2.06.94zm10 10l.94 2.06.94-2.06 2.06-.94-2.06-.94-.94-2.06-.94 2.06-2.06.94z\"/><path d=\"M17.41 7.96l-1.37-1.37c-.4-.4-.92-.59-1.43-.59-.52 0-1.04.2-1.43.59L10.3 9.45l-7.72 7.72c-.78.78-.78 2.05 0 2.83L4 21.41c.39.39.9.59 1.41.59.51 0 1.02-.2 1.41-.59l7.78-7.78 2.81-2.81c.8-.78.8-2.07 0-2.86zM5.41 20L4 18.59l7.72-7.72 1.47 1.35L5.41 20z\"/>\n",
              "  </svg>\n",
              "      </button>\n",
              "      \n",
              "  <style>\n",
              "    .colab-df-container {\n",
              "      display:flex;\n",
              "      flex-wrap:wrap;\n",
              "      gap: 12px;\n",
              "    }\n",
              "\n",
              "    .colab-df-convert {\n",
              "      background-color: #E8F0FE;\n",
              "      border: none;\n",
              "      border-radius: 50%;\n",
              "      cursor: pointer;\n",
              "      display: none;\n",
              "      fill: #1967D2;\n",
              "      height: 32px;\n",
              "      padding: 0 0 0 0;\n",
              "      width: 32px;\n",
              "    }\n",
              "\n",
              "    .colab-df-convert:hover {\n",
              "      background-color: #E2EBFA;\n",
              "      box-shadow: 0px 1px 2px rgba(60, 64, 67, 0.3), 0px 1px 3px 1px rgba(60, 64, 67, 0.15);\n",
              "      fill: #174EA6;\n",
              "    }\n",
              "\n",
              "    [theme=dark] .colab-df-convert {\n",
              "      background-color: #3B4455;\n",
              "      fill: #D2E3FC;\n",
              "    }\n",
              "\n",
              "    [theme=dark] .colab-df-convert:hover {\n",
              "      background-color: #434B5C;\n",
              "      box-shadow: 0px 1px 3px 1px rgba(0, 0, 0, 0.15);\n",
              "      filter: drop-shadow(0px 1px 2px rgba(0, 0, 0, 0.3));\n",
              "      fill: #FFFFFF;\n",
              "    }\n",
              "  </style>\n",
              "\n",
              "      <script>\n",
              "        const buttonEl =\n",
              "          document.querySelector('#df-d179b42c-7191-4132-8a7c-ea2636f4035c button.colab-df-convert');\n",
              "        buttonEl.style.display =\n",
              "          google.colab.kernel.accessAllowed ? 'block' : 'none';\n",
              "\n",
              "        async function convertToInteractive(key) {\n",
              "          const element = document.querySelector('#df-d179b42c-7191-4132-8a7c-ea2636f4035c');\n",
              "          const dataTable =\n",
              "            await google.colab.kernel.invokeFunction('convertToInteractive',\n",
              "                                                     [key], {});\n",
              "          if (!dataTable) return;\n",
              "\n",
              "          const docLinkHtml = 'Like what you see? Visit the ' +\n",
              "            '<a target=\"_blank\" href=https://colab.research.google.com/notebooks/data_table.ipynb>data table notebook</a>'\n",
              "            + ' to learn more about interactive tables.';\n",
              "          element.innerHTML = '';\n",
              "          dataTable['output_type'] = 'display_data';\n",
              "          await google.colab.output.renderOutput(dataTable, element);\n",
              "          const docLink = document.createElement('div');\n",
              "          docLink.innerHTML = docLinkHtml;\n",
              "          element.appendChild(docLink);\n",
              "        }\n",
              "      </script>\n",
              "    </div>\n",
              "  </div>\n",
              "  "
            ]
          },
          "metadata": {},
          "execution_count": 74
        }
      ]
    },
    {
      "cell_type": "code",
      "source": [
        "plt.figure(figsize=(20,10))\n",
        "plt.scatter(X_test['Year'],Y_test2,color='red')\n",
        "plt.plot(X_test['Year'],Y_test2,color='green')\n",
        "plt.plot(X_test['Year'],Y_pred2,color='blue')"
      ],
      "metadata": {
        "colab": {
          "base_uri": "https://localhost:8080/",
          "height": 514
        },
        "id": "yMi1htF7Bkkl",
        "outputId": "3ef7f413-5f2b-4403-94f4-ad560b21ed4c"
      },
      "execution_count": 40,
      "outputs": [
        {
          "output_type": "execute_result",
          "data": {
            "text/plain": [
              "[<matplotlib.lines.Line2D at 0x7fb758d32fa0>]"
            ]
          },
          "metadata": {},
          "execution_count": 40
        },
        {
          "output_type": "display_data",
          "data": {
            "text/plain": [
              "<Figure size 2000x1000 with 1 Axes>"
            ],
            "image/png": "[encoded data removed]"
          },
          "metadata": {}
        }
      ]
    },
    {
      "cell_type": "code",
      "source": [
        "for i in range(2024,2031):\n",
        "  Y_exp_pred2 = regressor.predict([[i]])\n",
        "  df2 = pd.DataFrame({'Year': i, 'Predicted Temperature': Y_exp_pred2})  \n",
        "  df2[df2['Predicted Temperature']>=0]\n",
        "  print(df2)"
      ],
      "metadata": {
        "colab": {
          "base_uri": "https://localhost:8080/"
        },
        "id": "n3hkkP46sK0T",
        "outputId": "7f56832e-a409-4b0b-eff4-e7a2ca948869"
      },
      "execution_count": 64,
      "outputs": [
        {
          "output_type": "stream",
          "name": "stdout",
          "text": [
            "   Year  Predicted Temperature\n",
            "0  2024              28.278571\n",
            "   Year  Predicted Temperature\n",
            "0  2025              28.209524\n",
            "   Year  Predicted Temperature\n",
            "0  2026              28.140476\n",
            "   Year  Predicted Temperature\n",
            "0  2027              28.071429\n",
            "   Year  Predicted Temperature\n",
            "0  2028              28.002381\n",
            "   Year  Predicted Temperature\n",
            "0  2029              27.933333\n",
            "   Year  Predicted Temperature\n",
            "0  2030              27.864286\n"
          ]
        },
        {
          "output_type": "stream",
          "name": "stderr",
          "text": [
            "/usr/local/lib/python3.9/dist-packages/sklearn/base.py:439: UserWarning: X does not have valid feature names, but SVR was fitted with feature names\n",
            "  warnings.warn(\n",
            "/usr/local/lib/python3.9/dist-packages/sklearn/base.py:439: UserWarning: X does not have valid feature names, but SVR was fitted with feature names\n",
            "  warnings.warn(\n",
            "/usr/local/lib/python3.9/dist-packages/sklearn/base.py:439: UserWarning: X does not have valid feature names, but SVR was fitted with feature names\n",
            "  warnings.warn(\n",
            "/usr/local/lib/python3.9/dist-packages/sklearn/base.py:439: UserWarning: X does not have valid feature names, but SVR was fitted with feature names\n",
            "  warnings.warn(\n",
            "/usr/local/lib/python3.9/dist-packages/sklearn/base.py:439: UserWarning: X does not have valid feature names, but SVR was fitted with feature names\n",
            "  warnings.warn(\n",
            "/usr/local/lib/python3.9/dist-packages/sklearn/base.py:439: UserWarning: X does not have valid feature names, but SVR was fitted with feature names\n",
            "  warnings.warn(\n",
            "/usr/local/lib/python3.9/dist-packages/sklearn/base.py:439: UserWarning: X does not have valid feature names, but SVR was fitted with feature names\n",
            "  warnings.warn(\n"
          ]
        }
      ]
    },
    {
      "cell_type": "code",
      "source": [
        "temperature = [28.278571, 28.209524, 28.140476, 28.071429, 28.002381, 27.933333, 27.864286]\n",
        "year = ['2024','2025','2026','2027','2028', '2029', '2030']\n",
        "col= ['w','b','g','y','m', 'c', 'r']\n",
        "\n",
        "plt.pie(temperature,labels=year, colors= col)\n",
        "\n",
        "plt.title('Temperature')\n",
        "\n",
        "plt.show()"
      ],
      "metadata": {
        "colab": {
          "base_uri": "https://localhost:8080/",
          "height": 428
        },
        "outputId": "7058c8c8-cb65-4b07-b53d-e47fdb234848",
        "id": "4T-5qJ3CPYwR"
      },
      "execution_count": 103,
      "outputs": [
        {
          "output_type": "display_data",
          "data": {
            "text/plain": [
              "<Figure size 640x480 with 1 Axes>"
            ],
            "image/png": "[encoded data removed]"
          },
          "metadata": {}
        }
      ]
    },
    {
      "cell_type": "code",
      "source": [
        "avg_Y_exp_pred = (52.5+50.775+49.05+47.325+45.6+43.875+42.15)/7\n",
        "avg_Y_test = (27.0+6.0+48.0+322.0+143.0+132.0+7.0+3.0+1.0+260.0+169.0+202.0+208.0+0.0+0.0+1.0+192.0+519.0+299.0+110.0+3.0+15.0+147.0+401.0+243.0+104.0+2.0)/27\n",
        "avg_Y_exp_pred2 = (28.278571+28.209524+28.140476+28.071429+28.002381+27.933333+27.864286)/7\n",
        "avg_Y_test2 = (20.40+26.80+31.90+30.85+31.50+29.45+19.85+20.40+28.75+30.85+30.10+30.65+28.30+22.20+17.70+25.45+31.00+30.35+30.00+27.30+18.40+28.12+31.74+30.60+30.96+28.73+20.27)/27\n",
        "drought_index = (avg_Y_test / avg_Y_exp_pred) * ((avg_Y_test2 / avg_Y_exp_pred2)**0.5)\n",
        "print(drought_index)"
      ],
      "metadata": {
        "colab": {
          "base_uri": "https://localhost:8080/"
        },
        "id": "eghLbjGjPD0B",
        "outputId": "5c414baf-4598-4268-f2c3-78ed91ec2954"
      },
      "execution_count": 75,
      "outputs": [
        {
          "output_type": "stream",
          "name": "stdout",
          "text": [
            "2.742259529478452\n"
          ]
        }
      ]
    },
    {
      "cell_type": "code",
      "source": [
        "drought_2024 = (avg_Y_test / 52.5) * ((avg_Y_test2 / 28.278571)**0.5)\n",
        "drought_2025 = (avg_Y_test / 50.775) * ((avg_Y_test2 / 28.209524)**0.5)\n",
        "drought_2026 = (avg_Y_test / 49.05) * ((avg_Y_test2 / 28.140476)**0.5)\n",
        "drought_2027 = (avg_Y_test / 47.325) * ((avg_Y_test2 / 28.071429)**0.5)\n",
        "drought_2028 = (avg_Y_test / 45.6) * ((avg_Y_test2 / 28.002381)**0.5)\n",
        "drought_2029 = (avg_Y_test / 43.875) * ((avg_Y_test2 / 27.933333)**0.5)\n",
        "drought_2030 = (avg_Y_test / 42.15) * ((avg_Y_test2 / 27.864286)**0.5)\n",
        "print(\"Drought possibility in 2024:\", drought_2024)\n",
        "print(\"Drought possibility in 2025:\", drought_2025)\n",
        "print(\"Drought possibility in 2026:\", drought_2026)\n",
        "print(\"Drought possibility in 2027:\", drought_2027)\n",
        "print(\"Drought possibility in 2028:\", drought_2028)\n",
        "print(\"Drought possibility in 2029:\", drought_2029)\n",
        "print(\"Drought possibility in 2030:\", drought_2030)"
      ],
      "metadata": {
        "colab": {
          "base_uri": "https://localhost:8080/"
        },
        "id": "xghxG_HYFJrQ",
        "outputId": "e9a1e0c6-d3c4-47f7-cb85-b808c923475a"
      },
      "execution_count": 78,
      "outputs": [
        {
          "output_type": "stream",
          "name": "stdout",
          "text": [
            "Drought possibility in 2024: 2.462880845841669\n",
            "Drought possibility in 2025: 2.5496679408236846\n",
            "Drought possibility in 2026: 2.642571233054802\n",
            "Drought possibility in 2027: 2.742259508545173\n",
            "Drought possibility in 2028: 2.849502953888852\n",
            "Drought possibility in 2029: 2.9651927220858294\n",
            "Drought possibility in 2030: 3.090365848767109\n"
          ]
        }
      ]
    },
    {
      "cell_type": "code",
      "source": [
        "drought = [2.462880845841669, 2.5496679408236846, 2.642571233054802, 2.742259508545173, 2.849502953888852, 2.9651927220858294, 3.090365848767109]\n",
        "year = ['2024','2025','2026','2027','2028', '2029', '2030']\n",
        "col= ['w','b','g','y','m', 'c', 'r']\n",
        "\n",
        "plt.pie(drought,labels=year, colors= col)\n",
        "\n",
        "plt.title('Drought index')\n",
        "\n",
        "plt.show()"
      ],
      "metadata": {
        "colab": {
          "base_uri": "https://localhost:8080/",
          "height": 428
        },
        "id": "t0vp47e_IiKJ",
        "outputId": "84309cd7-354e-4bf5-ef87-b446969bf9b5"
      },
      "execution_count": 104,
      "outputs": [
        {
          "output_type": "display_data",
          "data": {
            "text/plain": [
              "<Figure size 640x480 with 1 Axes>"
            ],
            "image/png": "[encoded data removed]"
          },
          "metadata": {}
        }
      ]
    }
  ]
}
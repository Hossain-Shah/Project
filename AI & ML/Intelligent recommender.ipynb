{
 "cells": [
  {
   "cell_type": "code",
   "execution_count": 18,
   "metadata": {},
   "outputs": [],
   "source": [
    "#Environment build-up\n",
    "env = [{0: ( 10, True ), 1: (  5, False), 2: (-10, False), 3: (-10, False), 4: (-10, False), \n",
    "        5: (-10, False), 6: (-10, False), 7: (-10, False), 8: (-10, False), 9: (-10, False)},\n",
    "       {0: (-10, False), 1: ( 10, True ), 2: (  5, False), 3: (-10, False), 4: (-10, False), \n",
    "        5: (-10, False), 6: (-10, False), 7: (-10, False), 8: (-10, False), 9: (-10, False)},\n",
    "       {0: (-10, False), 1: (-10, False), 2: ( 10, True ), 3: (  5, False), 4: (-10, False), \n",
    "        5: (-10, False), 6: (-10, False), 7: (-10, False), 8: (-10, False), 9: (-10, False)},\n",
    "       {0: (-10, False), 1: (-10, False), 2: (-10, False), 3: ( 10, True ), 4: (  5, False), \n",
    "        5: (-10, False), 6: (-10, False), 7: (-10, False), 8: (-10, False), 9: (-10, False)},\n",
    "       {0: (-10, False), 1: (-10, False), 2: (-10, False), 3: (-10, False), 4: ( 10, True ),\n",
    "        5: (  5, False), 6: (-10, False), 7: (-10, False), 8: (-10, False), 9: (-10, False)},\n",
    "       {0: (-10, False), 1: (-10, False), 2: (-10, False), 3: (-10, False), 4: (-10, False), \n",
    "        5: ( 10, True ), 6: (  5, False), 7: (-10, False), 8: (-10, False), 9: (-10, False)},\n",
    "       {0: (-10, False), 1: (-10, False), 2: (-10, False), 3: (-10, False), 4: (-10, False),\n",
    "        5: (-10, False), 6: ( 10, True ), 7: (  5, False), 8: (-10, False), 9: (-10, False)},\n",
    "       {0: (-10, False), 1: (-10, False), 2: (-10, False), 3: (-10, False), 4: (-10, False),\n",
    "        5: (-10, False), 6: (-10, False), 7: ( 10, True ), 8: (  5, False), 9: (-10, False)},\n",
    "       {0: (-10, False), 1: (-10, False), 2: (-10, False), 3: (-10, False), 4: (-10, False),\n",
    "        5: (-10, False), 6: (-10, False), 7: (-10, False), 8: ( 10, True ), 9: (  5, False)},\n",
    "       {0: (  5, False), 1: (-10, False), 2: (-10, False), 3: (-10, False), 4: (-10, False),\n",
    "        5: (-10, False), 6: (-10, False), 7: (-10, False), 8: (-10, False), 9: ( 10, True )}\n",
    "      ]"
   ]
  },
  {
   "cell_type": "code",
   "execution_count": 20,
   "metadata": {},
   "outputs": [
    {
     "name": "stdout",
     "output_type": "stream",
     "text": [
      "(-10, False)\n"
     ]
    }
   ],
   "source": [
    "print( env[1][0] )"
   ]
  },
  {
   "cell_type": "code",
   "execution_count": 21,
   "metadata": {},
   "outputs": [],
   "source": [
    "#Importing libraries\n",
    "import numpy as np\n",
    "import random\n",
    "from IPython.display import clear_output"
   ]
  },
  {
   "cell_type": "code",
   "execution_count": 22,
   "metadata": {},
   "outputs": [
    {
     "name": "stdout",
     "output_type": "stream",
     "text": [
      "[[0. 0. 0. 0. 0. 0. 0. 0. 0. 0.]\n",
      " [0. 0. 0. 0. 0. 0. 0. 0. 0. 0.]\n",
      " [0. 0. 0. 0. 0. 0. 0. 0. 0. 0.]\n",
      " [0. 0. 0. 0. 0. 0. 0. 0. 0. 0.]\n",
      " [0. 0. 0. 0. 0. 0. 0. 0. 0. 0.]\n",
      " [0. 0. 0. 0. 0. 0. 0. 0. 0. 0.]\n",
      " [0. 0. 0. 0. 0. 0. 0. 0. 0. 0.]\n",
      " [0. 0. 0. 0. 0. 0. 0. 0. 0. 0.]\n",
      " [0. 0. 0. 0. 0. 0. 0. 0. 0. 0.]\n",
      " [0. 0. 0. 0. 0. 0. 0. 0. 0. 0.]]\n"
     ]
    }
   ],
   "source": [
    "#Checking search table\n",
    "q_table = np.zeros([10, 10])\n",
    "print(q_table)"
   ]
  },
  {
   "cell_type": "code",
   "execution_count": 23,
   "metadata": {},
   "outputs": [
    {
     "name": "stdout",
     "output_type": "stream",
     "text": [
      "Training: 9999900\n",
      "Training finished.\n",
      "\n"
     ]
    }
   ],
   "source": [
    "# Parameters to compound how important is each test during the training phase\n",
    "l_rate   = 0.25 # learning rate\n",
    "w_import = 0.9 # how important it is for future rewards. Lower values, short term decisions. Higher, long-term \n",
    "r_select = 0.33 # aprox. 20% of actions will be randomly selected\n",
    "\n",
    "for i in range(1, 10000000):\n",
    "    r_state = random.randrange(0,9,1) # Rows of our environment (clients)\n",
    "    r_ok = False\n",
    "    \n",
    "    while not r_ok:\n",
    "        if random.uniform(0, 1) < r_select:\n",
    "            r_act = random.randrange(0,10,1)     # Try randomly a path on the environment Columns (products)\n",
    "        else:\n",
    "            r_act = np.argmax(q_table[r_state]) # Selecting the best action based on learned values\n",
    "        \n",
    "        r_reward, r_ok = env[r_state][r_act] \n",
    "        \n",
    "        o_measu = q_table[r_state, r_act]\n",
    "        n_state = (r_state + 1 if r_state + 1 < 10 else 0) # Just using a valid range\n",
    "        n_maxim = np.max(q_table[r_state])\n",
    "        \n",
    "        n_eval  = ((1 - l_rate) * o_measu) + (l_rate * (r_reward + w_import * n_maxim))\n",
    "        q_table[r_state, r_act] = n_eval\n",
    "\n",
    "        r_state = n_state\n",
    "        \n",
    "    if i % 100 == 0:\n",
    "        clear_output(wait=True)\n",
    "        print(f\"Training: {i}\")\n",
    "\n",
    "print(\"Training finished.\\n\")"
   ]
  },
  {
   "cell_type": "code",
   "execution_count": 24,
   "metadata": {},
   "outputs": [
    {
     "name": "stdout",
     "output_type": "stream",
     "text": [
      "[[100.  95.  80.  80.  80.  80.  80.  80.  80.  80.]\n",
      " [ 80. 100.  95.  80.  80.  80.  80.  80.  80.  80.]\n",
      " [ 80.  80. 100.  95.  80.  80.  80.  80.  80.  80.]\n",
      " [ 80.  80.  80. 100.  95.  80.  80.  80.  80.  80.]\n",
      " [ 80.  80.  80.  80. 100.  95.  80.  80.  80.  80.]\n",
      " [ 80.  80.  80.  80.  80. 100.  95.  80.  80.  80.]\n",
      " [ 80.  80.  80.  80.  80.  80. 100.  95.  80.  80.]\n",
      " [ 80.  80.  80.  80.  80.  80.  80. 100.  95.  80.]\n",
      " [ 80.  80.  80.  80.  80.  80.  80.  80. 100.  95.]\n",
      " [ 95.  80.  80.  80.  80.  80.  80.  80.  80. 100.]]\n"
     ]
    }
   ],
   "source": [
    "#Checking search table\n",
    "print(q_table)"
   ]
  },
  {
   "cell_type": "code",
   "execution_count": 25,
   "metadata": {},
   "outputs": [
    {
     "name": "stdout",
     "output_type": "stream",
     "text": [
      "I made 0 wrong suggestions after 17000.\n"
     ]
    }
   ],
   "source": [
    "#Recommender testing\n",
    "r_wrong   = 0\n",
    "tentative = 17000\n",
    "\n",
    "for _ in range(tentative):\n",
    "    r_state = random.randrange(0,9,1)\n",
    "    r_reward = 0    \n",
    "    r_ok = False\n",
    "    \n",
    "    while not r_ok:\n",
    "        r_act = np.argmax(q_table[r_state])\n",
    "        r_reward, r_ok = env[r_state][r_act]\n",
    "\n",
    "        if r_reward == -10:\n",
    "            r_wrong += 1\n",
    "\n",
    "\n",
    "print(f\"I made {r_wrong} wrong suggestions after {tentative}.\")"
   ]
  },
  {
   "cell_type": "code",
   "execution_count": null,
   "metadata": {},
   "outputs": [],
   "source": []
  }
 ],
 "metadata": {
  "kernelspec": {
   "display_name": "Python 3",
   "language": "python",
   "name": "python3"
  },
  "language_info": {
   "codemirror_mode": {
    "name": "ipython",
    "version": 3
   },
   "file_extension": ".py",
   "mimetype": "text/x-python",
   "name": "python",
   "nbconvert_exporter": "python",
   "pygments_lexer": "ipython3",
   "version": "3.8.5"
  }
 },
 "nbformat": 4,
 "nbformat_minor": 4
}

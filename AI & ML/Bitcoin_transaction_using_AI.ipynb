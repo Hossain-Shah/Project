{
  "nbformat": 4,
  "nbformat_minor": 0,
  "metadata": {
    "colab": {
      "provenance": [],
      "gpuType": "T4"
    },
    "kernelspec": {
      "name": "python3",
      "display_name": "Python 3"
    },
    "language_info": {
      "name": "python"
    },
    "accelerator": "GPU",
    "gpuClass": "standard"
  },
  "cells": [
    {
      "cell_type": "code",
      "execution_count": 1,
      "metadata": {
        "id": "XTKxWwKeUvrv"
      },
      "outputs": [],
      "source": [
        "import requests\n",
        "\n",
        "# define the API endpoint to get transaction data\n",
        "api_endpoint = \"https://blockchain.info/rawaddr/\"\n",
        "\n",
        "# specify the Bitcoin address we want to analyze\n",
        "address = \"1HLoD9E4SDFFPDiYfNYnkBLQ85Y51J3Zb1\"\n",
        "\n",
        "# make a request to the API to get transaction data for the address\n",
        "response = requests.get(api_endpoint + address)\n",
        "\n",
        "# parse the JSON data into a Python dictionary\n",
        "transaction_data = response.json()"
      ]
    },
    {
      "cell_type": "code",
      "source": [
        "import pandas as pd\n",
        "\n",
        "# convert the transaction data into a Pandas DataFrame\n",
        "df = pd.DataFrame(transaction_data[\"txs\"])\n",
        "\n",
        "# clean the data by removing unnecessary columns\n",
        "df = df[[\"time\", \"inputs\", \"out\"]]\n",
        "\n",
        "# convert the timestamps to datetime objects\n",
        "df[\"time\"] = pd.to_datetime(df[\"time\"], unit=\"s\")\n",
        "\n",
        "# create a new column to track the total transaction volume\n",
        "df[\"total_output_value\"] = df[\"out\"].apply(lambda x: sum([o[\"value\"] for o in x]))\n",
        "\n",
        "# remove any rows where the total transaction volume is 0\n",
        "df = df[df[\"total_output_value\"] > 0]"
      ],
      "metadata": {
        "id": "8ybb7kinWPPk"
      },
      "execution_count": 8,
      "outputs": []
    },
    {
      "cell_type": "code",
      "source": [
        "# create a new column to track the hour of the day when the transaction occurred\n",
        "df[\"hour_of_day\"] = df[\"time\"].apply(lambda x: x.hour)\n",
        "\n",
        "# create a new column to track the day of the week when the transaction occurred\n",
        "df[\"day_of_week\"] = df[\"time\"].apply(lambda x: x.weekday())"
      ],
      "metadata": {
        "id": "1Q6Y87gKWe4l"
      },
      "execution_count": 15,
      "outputs": []
    },
    {
      "cell_type": "code",
      "source": [
        "from sklearn.linear_model import LinearRegression\n",
        "from sklearn.model_selection import train_test_split\n",
        "from sklearn.metrics import mean_squared_error\n",
        "\n",
        "# define our features and target variable\n",
        "X = df[[\"hour_of_day\", \"day_of_week\"]]\n",
        "y = df[\"total_output_value\"]\n",
        "\n",
        "# split the data into training and testing sets\n",
        "X_train, X_test, y_train, y_test = train_test_split(X, y, test_size=0.2, random_state=42)\n",
        "\n",
        "# train a linear regression model on the training data\n",
        "model = LinearRegression()\n",
        "model.fit(X_train, y_train)\n",
        "\n",
        "# make predictions on the testing data and evaluate the model's performance\n",
        "y_pred = model.predict(X_test)\n",
        "mse = mean_squared_error(y_test, y_pred)\n",
        "print(\"Mean Squared Error:\", mse)"
      ],
      "metadata": {
        "colab": {
          "base_uri": "https://localhost:8080/"
        },
        "id": "o6bR2TXdZQ8I",
        "outputId": "db3739c8-8f6d-4c0a-fece-b607ee49b9a8"
      },
      "execution_count": 16,
      "outputs": [
        {
          "output_type": "stream",
          "name": "stdout",
          "text": [
            "Mean Squared Error: 2.676732681694596e+18\n"
          ]
        }
      ]
    },
    {
      "cell_type": "code",
      "source": [
        "# use the trained model to make predictions on new data\n",
        "new_data = pd.DataFrame({\n",
        "    \"hour_of_day\": [10],\n",
        "    \"day_of_week\": [2]\n",
        "})\n",
        "prediction = model.predict(new_data)[0]\n",
        "print(\"Predicted Total Output Value:\", prediction)"
      ],
      "metadata": {
        "colab": {
          "base_uri": "https://localhost:8080/"
        },
        "id": "DirJIIitZ10r",
        "outputId": "a44adefc-2473-4e60-ca57-75f1f8c28d57"
      },
      "execution_count": 18,
      "outputs": [
        {
          "output_type": "stream",
          "name": "stdout",
          "text": [
            "Predicted Total Output Value: 166001361.77263957\n"
          ]
        }
      ]
    }
  ]
}
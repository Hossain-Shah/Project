{
 "cells": [
  {
   "cell_type": "code",
   "execution_count": 1,
   "id": "horizontal-wednesday",
   "metadata": {},
   "outputs": [
    {
     "name": "stderr",
     "output_type": "stream",
     "text": [
      "C:\\Users\\MEDINA TECH\\anaconda3\\lib\\site-packages\\numpy\\_distributor_init.py:30: UserWarning: loaded more than 1 DLL from .libs:\n",
      "C:\\Users\\MEDINA TECH\\anaconda3\\lib\\site-packages\\numpy\\.libs\\libopenblas.PYQHXLVVQ7VESDPUVUADXEVJOBGHJPAY.gfortran-win_amd64.dll\n",
      "C:\\Users\\MEDINA TECH\\anaconda3\\lib\\site-packages\\numpy\\.libs\\libopenblas.qvlo2t66wepi7jz63ps3hmohfey472bc.gfortran-win_amd64.dll\n",
      "  warnings.warn(\"loaded more than 1 DLL from .libs:\"\n"
     ]
    }
   ],
   "source": [
    "from tensorflow.compat.v1 import ConfigProto\n",
    "from tensorflow.compat.v1 import InteractiveSession\n",
    "config = ConfigProto()\n",
    "config.gpu_options.per_process_gpu_memory_fraction = 0.5\n",
    "config.gpu_options.allow_growth = True\n",
    "session = InteractiveSession(config=config)"
   ]
  },
  {
   "cell_type": "code",
   "execution_count": 2,
   "id": "wound-attraction",
   "metadata": {},
   "outputs": [
    {
     "name": "stdout",
     "output_type": "stream",
     "text": [
      "Tue Mar 29 20:08:47 2022       \n",
      "+-----------------------------------------------------------------------------+\n",
      "| NVIDIA-SMI 472.19       Driver Version: 472.19       CUDA Version: 11.4     |\n",
      "|-------------------------------+----------------------+----------------------+\n",
      "| GPU  Name            TCC/WDDM | Bus-Id        Disp.A | Volatile Uncorr. ECC |\n",
      "| Fan  Temp  Perf  Pwr:Usage/Cap|         Memory-Usage | GPU-Util  Compute M. |\n",
      "|                               |                      |               MIG M. |\n",
      "|===============================+======================+======================|\n",
      "|   0  NVIDIA GeForce ... WDDM  | 00000000:01:00.0 Off |                  N/A |\n",
      "| N/A   48C    P0    N/A /  N/A |     88MiB /  2048MiB |      0%      Default |\n",
      "|                               |                      |                  N/A |\n",
      "+-------------------------------+----------------------+----------------------+\n",
      "                                                                               \n",
      "+-----------------------------------------------------------------------------+\n",
      "| Processes:                                                                  |\n",
      "|  GPU   GI   CI        PID   Type   Process name                  GPU Memory |\n",
      "|        ID   ID                                                   Usage      |\n",
      "|=============================================================================|\n",
      "|    0   N/A  N/A      2724      C   ...TECH\\anaconda3\\python.exe    N/A      |\n",
      "+-----------------------------------------------------------------------------+\n"
     ]
    }
   ],
   "source": [
    "!nvidia-smi"
   ]
  },
  {
   "cell_type": "code",
   "execution_count": 3,
   "id": "fitted-circus",
   "metadata": {},
   "outputs": [
    {
     "name": "stdout",
     "output_type": "stream",
     "text": [
      "Requirement already satisfied: tensorflow-gpu in c:\\users\\medina tech\\appdata\\roaming\\python\\python38\\site-packages (2.4.1)"
     ]
    },
    {
     "name": "stderr",
     "output_type": "stream",
     "text": [
      "WARNING: You are using pip version 21.3.1; however, version 22.0.4 is available.\n",
      "You should consider upgrading via the 'c:\\users\\medina tech\\anaconda3\\python.exe -m pip install --upgrade pip' command.\n"
     ]
    },
    {
     "name": "stdout",
     "output_type": "stream",
     "text": [
      "\n",
      "Requirement already satisfied: astunparse~=1.6.3 in c:\\users\\medina tech\\anaconda3\\lib\\site-packages (from tensorflow-gpu) (1.6.3)\n",
      "Requirement already satisfied: wheel~=0.35 in c:\\users\\medina tech\\anaconda3\\lib\\site-packages (from tensorflow-gpu) (0.36.2)\n",
      "Requirement already satisfied: gast==0.3.3 in c:\\users\\medina tech\\appdata\\roaming\\python\\python38\\site-packages (from tensorflow-gpu) (0.3.3)\n",
      "Requirement already satisfied: six~=1.15.0 in c:\\users\\medina tech\\anaconda3\\lib\\site-packages (from tensorflow-gpu) (1.15.0)\n",
      "Requirement already satisfied: tensorflow-estimator<2.5.0,>=2.4.0 in c:\\users\\medina tech\\anaconda3\\lib\\site-packages (from tensorflow-gpu) (2.4.0)\n",
      "Requirement already satisfied: tensorboard~=2.4 in c:\\users\\medina tech\\anaconda3\\lib\\site-packages (from tensorflow-gpu) (2.4.0)\n",
      "Requirement already satisfied: wrapt~=1.12.1 in c:\\users\\medina tech\\anaconda3\\lib\\site-packages (from tensorflow-gpu) (1.12.1)\n",
      "Requirement already satisfied: flatbuffers~=1.12.0 in c:\\users\\medina tech\\anaconda3\\lib\\site-packages (from tensorflow-gpu) (1.12)\n",
      "Requirement already satisfied: google-pasta~=0.2 in c:\\users\\medina tech\\anaconda3\\lib\\site-packages (from tensorflow-gpu) (0.2.0)\n",
      "Requirement already satisfied: keras-preprocessing~=1.1.2 in c:\\users\\medina tech\\anaconda3\\lib\\site-packages (from tensorflow-gpu) (1.1.2)\n",
      "Requirement already satisfied: typing-extensions~=3.7.4 in c:\\users\\medina tech\\anaconda3\\lib\\site-packages (from tensorflow-gpu) (3.7.4.3)\n",
      "Requirement already satisfied: grpcio~=1.32.0 in c:\\users\\medina tech\\appdata\\roaming\\python\\python38\\site-packages (from tensorflow-gpu) (1.32.0)\n",
      "Requirement already satisfied: absl-py~=0.10 in c:\\users\\medina tech\\anaconda3\\lib\\site-packages (from tensorflow-gpu) (0.12.0)\n",
      "Requirement already satisfied: numpy~=1.19.2 in c:\\users\\medina tech\\anaconda3\\lib\\site-packages (from tensorflow-gpu) (1.19.3)\n",
      "Requirement already satisfied: protobuf>=3.9.2 in c:\\users\\medina tech\\anaconda3\\lib\\site-packages (from tensorflow-gpu) (3.15.6)\n",
      "Requirement already satisfied: termcolor~=1.1.0 in c:\\users\\medina tech\\anaconda3\\lib\\site-packages (from tensorflow-gpu) (1.1.0)\n",
      "Requirement already satisfied: h5py~=2.10.0 in c:\\users\\medina tech\\anaconda3\\lib\\site-packages (from tensorflow-gpu) (2.10.0)\n",
      "Requirement already satisfied: opt-einsum~=3.3.0 in c:\\users\\medina tech\\anaconda3\\lib\\site-packages (from tensorflow-gpu) (3.3.0)\n",
      "Requirement already satisfied: google-auth-oauthlib<0.5,>=0.4.1 in c:\\users\\medina tech\\anaconda3\\lib\\site-packages (from tensorboard~=2.4->tensorflow-gpu) (0.4.3)\n",
      "Requirement already satisfied: werkzeug>=0.11.15 in c:\\users\\medina tech\\anaconda3\\lib\\site-packages (from tensorboard~=2.4->tensorflow-gpu) (1.0.1)\n",
      "Requirement already satisfied: tensorboard-plugin-wit>=1.6.0 in c:\\users\\medina tech\\anaconda3\\lib\\site-packages (from tensorboard~=2.4->tensorflow-gpu) (1.8.0)\n",
      "Requirement already satisfied: requests<3,>=2.21.0 in c:\\users\\medina tech\\anaconda3\\lib\\site-packages (from tensorboard~=2.4->tensorflow-gpu) (2.25.1)\n",
      "Requirement already satisfied: google-auth<2,>=1.6.3 in c:\\users\\medina tech\\anaconda3\\lib\\site-packages (from tensorboard~=2.4->tensorflow-gpu) (1.28.0)\n",
      "Requirement already satisfied: markdown>=2.6.8 in c:\\users\\medina tech\\anaconda3\\lib\\site-packages (from tensorboard~=2.4->tensorflow-gpu) (3.3.4)\n",
      "Requirement already satisfied: setuptools>=41.0.0 in c:\\users\\medina tech\\anaconda3\\lib\\site-packages (from tensorboard~=2.4->tensorflow-gpu) (52.0.0.post20210125)\n",
      "Requirement already satisfied: rsa<5,>=3.1.4 in c:\\users\\medina tech\\anaconda3\\lib\\site-packages (from google-auth<2,>=1.6.3->tensorboard~=2.4->tensorflow-gpu) (4.7.2)\n",
      "Requirement already satisfied: cachetools<5.0,>=2.0.0 in c:\\users\\medina tech\\anaconda3\\lib\\site-packages (from google-auth<2,>=1.6.3->tensorboard~=2.4->tensorflow-gpu) (4.2.1)\n",
      "Requirement already satisfied: pyasn1-modules>=0.2.1 in c:\\users\\medina tech\\anaconda3\\lib\\site-packages (from google-auth<2,>=1.6.3->tensorboard~=2.4->tensorflow-gpu) (0.2.8)\n",
      "Requirement already satisfied: requests-oauthlib>=0.7.0 in c:\\users\\medina tech\\anaconda3\\lib\\site-packages (from google-auth-oauthlib<0.5,>=0.4.1->tensorboard~=2.4->tensorflow-gpu) (1.3.0)\n",
      "Requirement already satisfied: urllib3<1.27,>=1.21.1 in c:\\users\\medina tech\\anaconda3\\lib\\site-packages (from requests<3,>=2.21.0->tensorboard~=2.4->tensorflow-gpu) (1.26.4)\n",
      "Requirement already satisfied: chardet<5,>=3.0.2 in c:\\users\\medina tech\\anaconda3\\lib\\site-packages (from requests<3,>=2.21.0->tensorboard~=2.4->tensorflow-gpu) (4.0.0)\n",
      "Requirement already satisfied: certifi>=2017.4.17 in c:\\users\\medina tech\\anaconda3\\lib\\site-packages (from requests<3,>=2.21.0->tensorboard~=2.4->tensorflow-gpu) (2021.5.30)\n",
      "Requirement already satisfied: idna<3,>=2.5 in c:\\users\\medina tech\\anaconda3\\lib\\site-packages (from requests<3,>=2.21.0->tensorboard~=2.4->tensorflow-gpu) (2.10)\n",
      "Requirement already satisfied: pyasn1<0.5.0,>=0.4.6 in c:\\users\\medina tech\\anaconda3\\lib\\site-packages (from pyasn1-modules>=0.2.1->google-auth<2,>=1.6.3->tensorboard~=2.4->tensorflow-gpu) (0.4.8)\n",
      "Requirement already satisfied: oauthlib>=3.0.0 in c:\\users\\medina tech\\anaconda3\\lib\\site-packages (from requests-oauthlib>=0.7.0->google-auth-oauthlib<0.5,>=0.4.1->tensorboard~=2.4->tensorflow-gpu) (3.1.0)\n"
     ]
    }
   ],
   "source": [
    "!pip install tensorflow-gpu"
   ]
  },
  {
   "cell_type": "code",
   "execution_count": 4,
   "id": "diagnostic-preliminary",
   "metadata": {},
   "outputs": [],
   "source": [
    "from tensorflow.keras.layers import Input, Lambda, Dense, Flatten\n",
    "from tensorflow.keras.models import Model\n",
    "from tensorflow.keras.applications.inception_v3 import InceptionV3\n",
    "from tensorflow.keras.applications import VGG16\n",
    "from tensorflow.keras.applications.inception_v3 import preprocess_input\n",
    "from tensorflow.keras.preprocessing import image\n",
    "from tensorflow.keras.preprocessing.image import ImageDataGenerator,load_img\n",
    "from tensorflow.keras.models import Sequential\n",
    "import numpy as np\n",
    "from glob import glob\n",
    "import matplotlib.pyplot as plt\n",
    "import cv2"
   ]
  },
  {
   "cell_type": "code",
   "execution_count": 5,
   "id": "raising-morris",
   "metadata": {},
   "outputs": [],
   "source": [
    "IMAGE_SIZE = [299, 299]\n",
    "TRAIN_PATH = 'F:/RiceDataset(Segmented)/train'\n",
    "VALIDATION_PATH = 'F:/RiceDataset(Segmented)/validation',\n",
    "TEST_IMAGE = 'E:/Official purpose/Sprint - 26/Crop images/ricebrownnarrowspot.jpg'"
   ]
  },
  {
   "cell_type": "code",
   "execution_count": 6,
   "id": "reported-binary",
   "metadata": {},
   "outputs": [],
   "source": [
    "vgg = VGG16(weights=\"imagenet\", include_top=False, input_tensor=Input(shape=(299, 299, 3)))"
   ]
  },
  {
   "cell_type": "code",
   "execution_count": 7,
   "id": "nominated-variable",
   "metadata": {},
   "outputs": [],
   "source": [
    "vgg.trainable = False"
   ]
  },
  {
   "cell_type": "code",
   "execution_count": 8,
   "id": "improved-advocacy",
   "metadata": {},
   "outputs": [],
   "source": [
    "folders = glob('F:/RiceDataset(Segmented)/train/*')"
   ]
  },
  {
   "cell_type": "code",
   "execution_count": 9,
   "id": "perceived-information",
   "metadata": {},
   "outputs": [],
   "source": [
    "flatten = vgg.output\n",
    "flatten = Flatten()(flatten)"
   ]
  },
  {
   "cell_type": "code",
   "execution_count": 10,
   "id": "scheduled-german",
   "metadata": {},
   "outputs": [],
   "source": [
    "bboxHead = Dense(128, activation=\"relu\")(flatten)\n",
    "bboxHead = Dense(64, activation=\"relu\")(bboxHead)\n",
    "bboxHead = Dense(32, activation=\"relu\")(bboxHead)\n",
    "bboxHead = Dense(len(folders), activation=\"softmax\")(bboxHead)"
   ]
  },
  {
   "cell_type": "code",
   "execution_count": 11,
   "id": "expressed-glass",
   "metadata": {},
   "outputs": [],
   "source": [
    "model = Model(inputs=vgg.input, outputs=bboxHead)"
   ]
  },
  {
   "cell_type": "code",
   "execution_count": 12,
   "id": "blank-cocktail",
   "metadata": {},
   "outputs": [
    {
     "name": "stdout",
     "output_type": "stream",
     "text": [
      "Model: \"model\"\n",
      "_________________________________________________________________\n",
      "Layer (type)                 Output Shape              Param #   \n",
      "=================================================================\n",
      "input_1 (InputLayer)         [(None, 299, 299, 3)]     0         \n",
      "_________________________________________________________________\n",
      "block1_conv1 (Conv2D)        (None, 299, 299, 64)      1792      \n",
      "_________________________________________________________________\n",
      "block1_conv2 (Conv2D)        (None, 299, 299, 64)      36928     \n",
      "_________________________________________________________________\n",
      "block1_pool (MaxPooling2D)   (None, 149, 149, 64)      0         \n",
      "_________________________________________________________________\n",
      "block2_conv1 (Conv2D)        (None, 149, 149, 128)     73856     \n",
      "_________________________________________________________________\n",
      "block2_conv2 (Conv2D)        (None, 149, 149, 128)     147584    \n",
      "_________________________________________________________________\n",
      "block2_pool (MaxPooling2D)   (None, 74, 74, 128)       0         \n",
      "_________________________________________________________________\n",
      "block3_conv1 (Conv2D)        (None, 74, 74, 256)       295168    \n",
      "_________________________________________________________________\n",
      "block3_conv2 (Conv2D)        (None, 74, 74, 256)       590080    \n",
      "_________________________________________________________________\n",
      "block3_conv3 (Conv2D)        (None, 74, 74, 256)       590080    \n",
      "_________________________________________________________________\n",
      "block3_pool (MaxPooling2D)   (None, 37, 37, 256)       0         \n",
      "_________________________________________________________________\n",
      "block4_conv1 (Conv2D)        (None, 37, 37, 512)       1180160   \n",
      "_________________________________________________________________\n",
      "block4_conv2 (Conv2D)        (None, 37, 37, 512)       2359808   \n",
      "_________________________________________________________________\n",
      "block4_conv3 (Conv2D)        (None, 37, 37, 512)       2359808   \n",
      "_________________________________________________________________\n",
      "block4_pool (MaxPooling2D)   (None, 18, 18, 512)       0         \n",
      "_________________________________________________________________\n",
      "block5_conv1 (Conv2D)        (None, 18, 18, 512)       2359808   \n",
      "_________________________________________________________________\n",
      "block5_conv2 (Conv2D)        (None, 18, 18, 512)       2359808   \n",
      "_________________________________________________________________\n",
      "block5_conv3 (Conv2D)        (None, 18, 18, 512)       2359808   \n",
      "_________________________________________________________________\n",
      "block5_pool (MaxPooling2D)   (None, 9, 9, 512)         0         \n",
      "_________________________________________________________________\n",
      "flatten (Flatten)            (None, 41472)             0         \n",
      "_________________________________________________________________\n",
      "dense (Dense)                (None, 128)               5308544   \n",
      "_________________________________________________________________\n",
      "dense_1 (Dense)              (None, 64)                8256      \n",
      "_________________________________________________________________\n",
      "dense_2 (Dense)              (None, 32)                2080      \n",
      "_________________________________________________________________\n",
      "dense_3 (Dense)              (None, 7)                 231       \n",
      "=================================================================\n",
      "Total params: 20,033,799\n",
      "Trainable params: 5,319,111\n",
      "Non-trainable params: 14,714,688\n",
      "_________________________________________________________________\n"
     ]
    }
   ],
   "source": [
    "model.compile(\n",
    "  loss='categorical_crossentropy',\n",
    "  optimizer='adam',\n",
    "  metrics=['accuracy']\n",
    ")\n",
    "model.summary()"
   ]
  },
  {
   "cell_type": "code",
   "execution_count": 13,
   "id": "protecting-colleague",
   "metadata": {},
   "outputs": [],
   "source": [
    "from tensorflow.keras.preprocessing.image import ImageDataGenerator\n",
    "\n",
    "train_datagen = ImageDataGenerator(rescale = 1./255,\n",
    "                                   shear_range = 0.2,\n",
    "                                   zoom_range = 0.2,\n",
    "                                   horizontal_flip = True)\n",
    "\n",
    "test_datagen = ImageDataGenerator(rescale = 1./255)"
   ]
  },
  {
   "cell_type": "code",
   "execution_count": 14,
   "id": "mobile-discretion",
   "metadata": {},
   "outputs": [
    {
     "name": "stdout",
     "output_type": "stream",
     "text": [
      "Found 320 images belonging to 7 classes.\n"
     ]
    }
   ],
   "source": [
    "training_set = train_datagen.flow_from_directory('F:/RiceDataset(Segmented)/train/',\n",
    "                                                 target_size = (299, 299),\n",
    "                                                 batch_size = 32,\n",
    "                                                 class_mode = 'categorical')"
   ]
  },
  {
   "cell_type": "code",
   "execution_count": 15,
   "id": "apparent-cleaning",
   "metadata": {},
   "outputs": [
    {
     "name": "stdout",
     "output_type": "stream",
     "text": [
      "Found 80 images belonging to 7 classes.\n"
     ]
    }
   ],
   "source": [
    "validation_set = test_datagen.flow_from_directory('F:/RiceDataset(Segmented)/validation/',\n",
    "                                                  target_size = (299, 299),\n",
    "                                                  batch_size = 32,\n",
    "                                                  class_mode = 'categorical')"
   ]
  },
  {
   "cell_type": "code",
   "execution_count": 16,
   "id": "listed-fifteen",
   "metadata": {
    "scrolled": true
   },
   "outputs": [
    {
     "name": "stdout",
     "output_type": "stream",
     "text": [
      "Epoch 1/50\n",
      "10/10 [==============================] - 145s 15s/step - loss: 3.3567 - accuracy: 0.2101 - val_loss: 1.7994 - val_accuracy: 0.4000\n",
      "Epoch 2/50\n",
      "10/10 [==============================] - 340s 35s/step - loss: 1.5593 - accuracy: 0.4417 - val_loss: 1.4909 - val_accuracy: 0.4500\n",
      "Epoch 3/50\n",
      "10/10 [==============================] - 337s 33s/step - loss: 1.1529 - accuracy: 0.5978 - val_loss: 1.3465 - val_accuracy: 0.4750\n",
      "Epoch 4/50\n",
      "10/10 [==============================] - 306s 31s/step - loss: 0.8713 - accuracy: 0.6792 - val_loss: 1.2531 - val_accuracy: 0.5375\n",
      "Epoch 5/50\n",
      "10/10 [==============================] - 333s 34s/step - loss: 0.7109 - accuracy: 0.7262 - val_loss: 1.2571 - val_accuracy: 0.5750\n",
      "Epoch 6/50\n",
      "10/10 [==============================] - 357s 36s/step - loss: 0.6961 - accuracy: 0.7261 - val_loss: 1.2449 - val_accuracy: 0.5750\n",
      "Epoch 7/50\n",
      "10/10 [==============================] - 337s 34s/step - loss: 0.6766 - accuracy: 0.7353 - val_loss: 1.3726 - val_accuracy: 0.4875\n",
      "Epoch 8/50\n",
      "10/10 [==============================] - 251s 25s/step - loss: 0.6397 - accuracy: 0.7573 - val_loss: 1.1673 - val_accuracy: 0.5000\n",
      "Epoch 9/50\n",
      "10/10 [==============================] - 237s 24s/step - loss: 0.6396 - accuracy: 0.7499 - val_loss: 1.3610 - val_accuracy: 0.5000\n",
      "Epoch 10/50\n",
      "10/10 [==============================] - 226s 23s/step - loss: 0.5887 - accuracy: 0.7628 - val_loss: 1.2560 - val_accuracy: 0.4375\n",
      "Epoch 11/50\n",
      "10/10 [==============================] - 224s 23s/step - loss: 0.5085 - accuracy: 0.7992 - val_loss: 1.2520 - val_accuracy: 0.5750\n",
      "Epoch 12/50\n",
      "10/10 [==============================] - 233s 23s/step - loss: 0.4416 - accuracy: 0.8269 - val_loss: 1.4474 - val_accuracy: 0.5500\n",
      "Epoch 13/50\n",
      "10/10 [==============================] - 239s 24s/step - loss: 0.4357 - accuracy: 0.8265 - val_loss: 1.2968 - val_accuracy: 0.5500\n",
      "Epoch 14/50\n",
      "10/10 [==============================] - 265s 27s/step - loss: 0.3811 - accuracy: 0.8680 - val_loss: 1.4350 - val_accuracy: 0.5375\n",
      "Epoch 15/50\n",
      "10/10 [==============================] - 241s 24s/step - loss: 0.3326 - accuracy: 0.8820 - val_loss: 1.3233 - val_accuracy: 0.6250\n",
      "Epoch 16/50\n",
      "10/10 [==============================] - 238s 24s/step - loss: 0.2993 - accuracy: 0.8886 - val_loss: 1.3722 - val_accuracy: 0.4750\n",
      "Epoch 17/50\n",
      "10/10 [==============================] - 243s 24s/step - loss: 0.3285 - accuracy: 0.9054 - val_loss: 1.2994 - val_accuracy: 0.5000\n",
      "Epoch 18/50\n",
      "10/10 [==============================] - 185s 18s/step - loss: 0.2379 - accuracy: 0.9326 - val_loss: 1.3976 - val_accuracy: 0.5375\n",
      "Epoch 19/50\n",
      "10/10 [==============================] - 261s 27s/step - loss: 0.2689 - accuracy: 0.9199 - val_loss: 1.3744 - val_accuracy: 0.5000\n",
      "Epoch 20/50\n",
      "10/10 [==============================] - 270s 27s/step - loss: 0.2872 - accuracy: 0.9157 - val_loss: 2.0112 - val_accuracy: 0.5625\n",
      "Epoch 21/50\n",
      "10/10 [==============================] - 257s 25s/step - loss: 0.3680 - accuracy: 0.8643 - val_loss: 1.3056 - val_accuracy: 0.6125\n",
      "Epoch 22/50\n",
      "10/10 [==============================] - 218s 22s/step - loss: 0.2535 - accuracy: 0.8878 - val_loss: 1.2703 - val_accuracy: 0.5500\n",
      "Epoch 23/50\n",
      "10/10 [==============================] - 232s 23s/step - loss: 0.2040 - accuracy: 0.9357 - val_loss: 1.2021 - val_accuracy: 0.6375\n",
      "Epoch 24/50\n",
      "10/10 [==============================] - 227s 22s/step - loss: 0.2170 - accuracy: 0.9216 - val_loss: 1.3073 - val_accuracy: 0.5625\n",
      "Epoch 25/50\n",
      "10/10 [==============================] - 209s 22s/step - loss: 0.1690 - accuracy: 0.9638 - val_loss: 1.3372 - val_accuracy: 0.5375\n",
      "Epoch 26/50\n",
      "10/10 [==============================] - 223s 22s/step - loss: 0.1947 - accuracy: 0.9406 - val_loss: 1.4754 - val_accuracy: 0.5750\n",
      "Epoch 27/50\n",
      "10/10 [==============================] - 180s 18s/step - loss: 0.2242 - accuracy: 0.9146 - val_loss: 1.4559 - val_accuracy: 0.6250\n",
      "Epoch 28/50\n",
      "10/10 [==============================] - 278s 29s/step - loss: 0.1525 - accuracy: 0.9476 - val_loss: 1.3449 - val_accuracy: 0.6125\n",
      "Epoch 29/50\n",
      "10/10 [==============================] - 338s 34s/step - loss: 0.1222 - accuracy: 0.9600 - val_loss: 1.3276 - val_accuracy: 0.6125\n",
      "Epoch 30/50\n",
      "10/10 [==============================] - 412s 42s/step - loss: 0.0828 - accuracy: 0.9766 - val_loss: 1.4080 - val_accuracy: 0.6125\n",
      "Epoch 31/50\n",
      "10/10 [==============================] - 444s 45s/step - loss: 0.1225 - accuracy: 0.9577 - val_loss: 1.4389 - val_accuracy: 0.5125\n",
      "Epoch 32/50\n",
      "10/10 [==============================] - 442s 45s/step - loss: 0.1306 - accuracy: 0.9571 - val_loss: 1.8778 - val_accuracy: 0.4875\n",
      "Epoch 33/50\n",
      "10/10 [==============================] - 361s 35s/step - loss: 0.1455 - accuracy: 0.9369 - val_loss: 1.3913 - val_accuracy: 0.6250\n",
      "Epoch 34/50\n",
      "10/10 [==============================] - 336s 34s/step - loss: 0.0952 - accuracy: 0.9618 - val_loss: 1.6486 - val_accuracy: 0.4875\n",
      "Epoch 35/50\n",
      "10/10 [==============================] - 336s 34s/step - loss: 0.1077 - accuracy: 0.9699 - val_loss: 1.5652 - val_accuracy: 0.5000\n",
      "Epoch 36/50\n",
      "10/10 [==============================] - 338s 34s/step - loss: 0.0724 - accuracy: 0.9726 - val_loss: 1.5429 - val_accuracy: 0.5500\n",
      "Epoch 37/50\n",
      "10/10 [==============================] - 335s 34s/step - loss: 0.0817 - accuracy: 0.9774 - val_loss: 1.6328 - val_accuracy: 0.5625\n",
      "Epoch 38/50\n",
      "10/10 [==============================] - 345s 35s/step - loss: 0.0877 - accuracy: 0.9663 - val_loss: 1.5424 - val_accuracy: 0.5875\n",
      "Epoch 39/50\n",
      "10/10 [==============================] - 341s 34s/step - loss: 0.0309 - accuracy: 0.9984 - val_loss: 1.5296 - val_accuracy: 0.5875\n",
      "Epoch 40/50\n",
      "10/10 [==============================] - 339s 34s/step - loss: 0.0459 - accuracy: 0.9908 - val_loss: 1.5127 - val_accuracy: 0.5250\n",
      "Epoch 41/50\n",
      "10/10 [==============================] - 335s 34s/step - loss: 0.0504 - accuracy: 0.9862 - val_loss: 1.5510 - val_accuracy: 0.5625\n",
      "Epoch 42/50\n",
      "10/10 [==============================] - 333s 34s/step - loss: 0.0689 - accuracy: 0.9739 - val_loss: 1.6614 - val_accuracy: 0.6250\n",
      "Epoch 43/50\n",
      "10/10 [==============================] - 336s 34s/step - loss: 0.0584 - accuracy: 0.9913 - val_loss: 1.7965 - val_accuracy: 0.6000\n",
      "Epoch 44/50\n",
      "10/10 [==============================] - 338s 34s/step - loss: 0.1122 - accuracy: 0.9489 - val_loss: 1.6637 - val_accuracy: 0.5500\n",
      "Epoch 45/50\n",
      "10/10 [==============================] - 248s 24s/step - loss: 0.0771 - accuracy: 0.9825 - val_loss: 1.6500 - val_accuracy: 0.6125\n",
      "Epoch 46/50\n",
      "10/10 [==============================] - 157s 16s/step - loss: 0.0367 - accuracy: 0.9957 - val_loss: 1.8076 - val_accuracy: 0.5750\n",
      "Epoch 47/50\n",
      "10/10 [==============================] - 138s 14s/step - loss: 0.0468 - accuracy: 0.9785 - val_loss: 1.7540 - val_accuracy: 0.5250\n",
      "Epoch 48/50\n",
      "10/10 [==============================] - 136s 14s/step - loss: 0.0172 - accuracy: 0.9979 - val_loss: 1.8379 - val_accuracy: 0.5625\n",
      "Epoch 49/50\n",
      "10/10 [==============================] - 139s 14s/step - loss: 0.0404 - accuracy: 0.9905 - val_loss: 1.7345 - val_accuracy: 0.5875\n",
      "Epoch 50/50\n",
      "10/10 [==============================] - 125s 13s/step - loss: 0.0221 - accuracy: 1.0000 - val_loss: 1.7730 - val_accuracy: 0.5750\n"
     ]
    }
   ],
   "source": [
    "trained_model = model.fit(\n",
    "  training_set,\n",
    "  validation_data = validation_set,\n",
    "  epochs=50,\n",
    "  steps_per_epoch=len(training_set),\n",
    "  validation_steps=len(validation_set)\n",
    ")"
   ]
  },
  {
   "cell_type": "code",
   "execution_count": 17,
   "id": "exterior-oracle",
   "metadata": {},
   "outputs": [],
   "source": [
    "model.save('E:/Official purpose/2022/Sprint06/rice_model(vgg).h5')"
   ]
  },
  {
   "cell_type": "code",
   "execution_count": 18,
   "id": "lonely-stick",
   "metadata": {},
   "outputs": [],
   "source": [
    "from tensorflow.keras.models import load_model\n",
    "from tensorflow.keras.preprocessing import image"
   ]
  },
  {
   "cell_type": "code",
   "execution_count": 20,
   "id": "saved-ferry",
   "metadata": {},
   "outputs": [],
   "source": [
    "model=load_model('E:/Official purpose/2022/Sprint06/rice_model(vgg).h5')"
   ]
  },
  {
   "cell_type": "code",
   "execution_count": 28,
   "id": "following-importance",
   "metadata": {},
   "outputs": [
    {
     "name": "stdout",
     "output_type": "stream",
     "text": [
      "WARNING:tensorflow:5 out of the last 5 calls to <function Model.make_predict_function.<locals>.predict_function at 0x0000014C80DDA820> triggered tf.function retracing. Tracing is expensive and the excessive number of tracings could be due to (1) creating @tf.function repeatedly in a loop, (2) passing tensors with different shapes, (3) passing Python objects instead of tensors. For (1), please define your @tf.function outside of the loop. For (2), @tf.function has experimental_relax_shapes=True option that relaxes argument shapes that can avoid unnecessary retracing. For (3), please refer to https://www.tensorflow.org/guide/function#controlling_retracing and https://www.tensorflow.org/api_docs/python/tf/function for  more details.\n",
      "[[3.2608164e-04 1.8896939e-03 2.8843053e-05 1.4727510e-04 3.4263143e-05\n",
      "  9.9533647e-01 2.2375043e-03]]\n"
     ]
    },
    {
     "data": {
      "text/plain": [
       "-1"
      ]
     },
     "execution_count": 28,
     "metadata": {},
     "output_type": "execute_result"
    }
   ],
   "source": [
    "import cv2, imutils\n",
    "import numpy as np\n",
    "from tensorflow.keras.models import load_model\n",
    "from tensorflow.keras.preprocessing import image\n",
    "model=load_model('E:/Official purpose/2022/Sprint06/rice_model(vgg).h5')\n",
    "img=image.load_img('E:/Official purpose/Sprint - 26/Crop images/rice_hispa.jpg',target_size=(299, 299))\n",
    "img_arr=image.img_to_array(img)\n",
    "img_arr=img_arr/255\n",
    "img_arr=np.expand_dims(img_arr,axis=0)\n",
    "preds = model.predict(img_arr)\n",
    "print(preds)\n",
    "(startX, startY, endX, endY) = preds[:, 0], preds[:, 1], preds[:, 2], preds[:, 3]\n",
    "image = cv2.imread('E:/Official purpose/Sprint - 26/Crop images/rice_hispa.jpg')\n",
    "image = imutils.resize(image, width=600)\n",
    "(h, w) = image.shape[:2]\n",
    "startX = int(startX * w)\n",
    "startY = int(startY * h)\n",
    "endX = int(endX * w)\n",
    "endY = int(endY * h)\n",
    "cv2.rectangle(image, (startX, startY), (endX, endY), (0, 255, 0), 2)\n",
    "cv2.imshow(\"Output\", image)\n",
    "cv2.waitKey(0)"
   ]
  },
  {
   "cell_type": "code",
   "execution_count": null,
   "id": "obvious-saver",
   "metadata": {},
   "outputs": [],
   "source": []
  }
 ],
 "metadata": {
  "kernelspec": {
   "display_name": "Python 3",
   "language": "python",
   "name": "python3"
  },
  "language_info": {
   "codemirror_mode": {
    "name": "ipython",
    "version": 3
   },
   "file_extension": ".py",
   "mimetype": "text/x-python",
   "name": "python",
   "nbconvert_exporter": "python",
   "pygments_lexer": "ipython3",
   "version": "3.8.8"
  }
 },
 "nbformat": 4,
 "nbformat_minor": 5
}

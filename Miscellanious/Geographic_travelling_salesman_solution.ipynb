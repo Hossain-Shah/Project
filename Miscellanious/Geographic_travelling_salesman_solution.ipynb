{
  "nbformat": 4,
  "nbformat_minor": 0,
  "metadata": {
    "colab": {
      "provenance": [],
      "gpuType": "T4"
    },
    "kernelspec": {
      "name": "python3",
      "display_name": "Python 3"
    },
    "language_info": {
      "name": "python"
    },
    "accelerator": "GPU"
  },
  "cells": [
    {
      "cell_type": "code",
      "execution_count": null,
      "metadata": {
        "id": "6o_tMrg2ko_T"
      },
      "outputs": [],
      "source": [
        "import pandas as pd\n",
        "df = pd.read_csv('/content/drive/MyDrive/Colab_Notebooks/gb_cities.csv')\n",
        "coordinates = df[['Longitude', 'Latitude']].values\n",
        "names = df['Place Name'].values"
      ]
    },
    {
      "cell_type": "code",
      "source": [
        "!pip install routingpy\n",
        "import routingpy as rp\n",
        "import numpy as np\n",
        "\n",
        "# get a free key at https://www.graphhopper.com/\n",
        "api_key = \"84df0674-ccf1-44c4-9f65-c981722a42e7\"\n",
        "api = rp.Graphhopper(api_key=api_key)\n",
        "matrix = api.matrix(locations=coordinates, profile='car')\n",
        "durations = np.matrix(matrix.durations)\n",
        "print(durations)"
      ],
      "metadata": {
        "colab": {
          "base_uri": "https://localhost:8080/"
        },
        "id": "mjojhfq4l0eM",
        "outputId": "ac36e941-3c76-4170-e401-01e663b7bf1f"
      },
      "execution_count": null,
      "outputs": [
        {
          "output_type": "stream",
          "name": "stdout",
          "text": [
            "Requirement already satisfied: routingpy in /usr/local/lib/python3.10/dist-packages (1.3.0)\n",
            "Requirement already satisfied: requests>=2.20.0 in /usr/local/lib/python3.10/dist-packages (from routingpy) (2.27.1)\n",
            "Requirement already satisfied: urllib3<1.27,>=1.21.1 in /usr/local/lib/python3.10/dist-packages (from requests>=2.20.0->routingpy) (1.26.16)\n",
            "Requirement already satisfied: certifi>=2017.4.17 in /usr/local/lib/python3.10/dist-packages (from requests>=2.20.0->routingpy) (2023.7.22)\n",
            "Requirement already satisfied: charset-normalizer~=2.0.0 in /usr/local/lib/python3.10/dist-packages (from requests>=2.20.0->routingpy) (2.0.12)\n",
            "Requirement already satisfied: idna<4,>=2.5 in /usr/local/lib/python3.10/dist-packages (from requests>=2.20.0->routingpy) (3.4)\n",
            "[[    0 10892 30363 ... 23368 25227 19833]\n",
            " [10901     0 23625 ... 16458 18317 13095]\n",
            " [30326 23541     0 ...  8835  9441 12260]\n",
            " ...\n",
            " [23394 16444  9007 ...     0  2789  7924]\n",
            " [25274 18324  9654 ...  2857     0  9627]\n",
            " [19854 13069 12340 ...  8002  9637     0]]\n"
          ]
        }
      ]
    },
    {
      "cell_type": "code",
      "source": [
        "def symmetricize(m, high_int=None):\n",
        "\n",
        "    # if high_int not provided, make it equal to 10 times the max value:\n",
        "    if high_int is None:\n",
        "        high_int = round(10*m.max())\n",
        "\n",
        "    m_bar = m.copy()\n",
        "    np.fill_diagonal(m_bar, 0)\n",
        "    u = np.matrix(np.ones(m.shape) * high_int)\n",
        "    np.fill_diagonal(u, 0)\n",
        "    m_symm_top = np.concatenate((u, np.transpose(m_bar)), axis=1)\n",
        "    m_symm_bottom = np.concatenate((m_bar, u), axis=1)\n",
        "    m_symm = np.concatenate((m_symm_top, m_symm_bottom), axis=0)\n",
        "\n",
        "    return m_symm.astype(int) # Concorde requires integer weights\n"
      ],
      "metadata": {
        "id": "ytfMidIep1ft"
      },
      "execution_count": null,
      "outputs": []
    },
    {
      "cell_type": "code",
      "source": [
        "symmetricize(durations)"
      ],
      "metadata": {
        "colab": {
          "base_uri": "https://localhost:8080/"
        },
        "id": "r37Sa-ufrrNJ",
        "outputId": "8a1015d2-a346-4482-9e3b-b7974fa42fb1"
      },
      "execution_count": null,
      "outputs": [
        {
          "output_type": "execute_result",
          "data": {
            "text/plain": [
              "matrix([[     0, 470690, 470690, ...,  23394,  25274,  19854],\n",
              "        [470690,      0, 470690, ...,  16444,  18324,  13069],\n",
              "        [470690, 470690,      0, ...,   9007,   9654,  12340],\n",
              "        ...,\n",
              "        [ 23394,  16444,   9007, ...,      0, 470690, 470690],\n",
              "        [ 25274,  18324,   9654, ..., 470690,      0, 470690],\n",
              "        [ 19854,  13069,  12340, ..., 470690, 470690,      0]])"
            ]
          },
          "metadata": {},
          "execution_count": 6
        }
      ]
    },
    {
      "cell_type": "code",
      "source": [
        "!git clone https://github.com/jvkersch/pyconcorde"
      ],
      "metadata": {
        "colab": {
          "base_uri": "https://localhost:8080/"
        },
        "id": "BPqNNgAkpId0",
        "outputId": "fc9a17d3-7512-4fda-fe43-698c2ecc2b8d"
      },
      "execution_count": null,
      "outputs": [
        {
          "output_type": "stream",
          "name": "stdout",
          "text": [
            "Cloning into 'pyconcorde'...\n",
            "remote: Enumerating objects: 408, done.\u001b[K\n",
            "remote: Counting objects: 100% (408/408), done.\u001b[K\n",
            "remote: Compressing objects: 100% (208/208), done.\u001b[K\n",
            "remote: Total 408 (delta 199), reused 364 (delta 176), pack-reused 0\u001b[K\n",
            "Receiving objects: 100% (408/408), 3.54 MiB | 17.50 MiB/s, done.\n",
            "Resolving deltas: 100% (199/199), done.\n"
          ]
        }
      ]
    },
    {
      "cell_type": "code",
      "source": [
        "%cd pyconcorde"
      ],
      "metadata": {
        "colab": {
          "base_uri": "https://localhost:8080/"
        },
        "id": "qm3WaOeTs1no",
        "outputId": "4e5005e9-c1ba-41ea-b42f-cf59449348c6"
      },
      "execution_count": null,
      "outputs": [
        {
          "output_type": "stream",
          "name": "stdout",
          "text": [
            "/content/pyconcorde\n"
          ]
        }
      ]
    },
    {
      "cell_type": "code",
      "source": [
        "!pip install -e ."
      ],
      "metadata": {
        "colab": {
          "base_uri": "https://localhost:8080/"
        },
        "id": "-pN1W9gitF_2",
        "outputId": "7a5f273f-4f27-482a-8db8-ce61fb77b53a"
      },
      "execution_count": null,
      "outputs": [
        {
          "output_type": "stream",
          "name": "stdout",
          "text": [
            "Obtaining file:///content/pyconcorde\n",
            "  Installing build dependencies ... \u001b[?25l\u001b[?25hdone\n",
            "  Checking if build backend supports build_editable ... \u001b[?25l\u001b[?25hdone\n",
            "  Getting requirements to build editable ... \u001b[?25l\u001b[?25hdone\n",
            "  Installing backend dependencies ... \u001b[?25l\u001b[?25hdone\n",
            "  Preparing editable metadata (pyproject.toml) ... \u001b[?25l\u001b[?25hdone\n",
            "Requirement already satisfied: cython>=0.22.0 in /usr/local/lib/python3.10/dist-packages (from pyconcorde==0.1.0) (0.29.36)\n",
            "Requirement already satisfied: numpy>=1.21.0 in /usr/local/lib/python3.10/dist-packages (from pyconcorde==0.1.0) (1.22.4)\n",
            "Collecting tsplib95 (from pyconcorde==0.1.0)\n",
            "  Downloading tsplib95-0.7.1-py2.py3-none-any.whl (25 kB)\n",
            "Requirement already satisfied: Click>=6.0 in /usr/local/lib/python3.10/dist-packages (from tsplib95->pyconcorde==0.1.0) (8.1.6)\n",
            "Collecting Deprecated~=1.2.9 (from tsplib95->pyconcorde==0.1.0)\n",
            "  Downloading Deprecated-1.2.14-py2.py3-none-any.whl (9.6 kB)\n",
            "Collecting networkx~=2.1 (from tsplib95->pyconcorde==0.1.0)\n",
            "  Downloading networkx-2.8.8-py3-none-any.whl (2.0 MB)\n",
            "\u001b[2K     \u001b[90m━━━━━━━━━━━━━━━━━━━━━━━━━━━━━━━━━━━━━━━━\u001b[0m \u001b[32m2.0/2.0 MB\u001b[0m \u001b[31m27.4 MB/s\u001b[0m eta \u001b[36m0:00:00\u001b[0m\n",
            "\u001b[?25hCollecting tabulate~=0.8.7 (from tsplib95->pyconcorde==0.1.0)\n",
            "  Downloading tabulate-0.8.10-py3-none-any.whl (29 kB)\n",
            "Requirement already satisfied: wrapt<2,>=1.10 in /usr/local/lib/python3.10/dist-packages (from Deprecated~=1.2.9->tsplib95->pyconcorde==0.1.0) (1.14.1)\n",
            "Building wheels for collected packages: pyconcorde\n",
            "  Building editable for pyconcorde (pyproject.toml) ... \u001b[?25l\u001b[?25hdone\n",
            "  Created wheel for pyconcorde: filename=pyconcorde-0.1.0-0.editable-cp310-cp310-linux_x86_64.whl size=3557 sha256=cb2e2458b8aaaa5789a7e738d70876057c0c27bd86ae42327894d8c5566f294d\n",
            "  Stored in directory: /tmp/pip-ephem-wheel-cache-dykaaz_t/wheels/30/8f/f8/baf479acd96e33ee68ba2acd29c1f1ae051ed8eaddc8bcd594\n",
            "Successfully built pyconcorde\n",
            "Installing collected packages: tabulate, networkx, Deprecated, tsplib95, pyconcorde\n",
            "  Attempting uninstall: tabulate\n",
            "    Found existing installation: tabulate 0.9.0\n",
            "    Uninstalling tabulate-0.9.0:\n",
            "      Successfully uninstalled tabulate-0.9.0\n",
            "  Attempting uninstall: networkx\n",
            "    Found existing installation: networkx 3.1\n",
            "    Uninstalling networkx-3.1:\n",
            "      Successfully uninstalled networkx-3.1\n",
            "Successfully installed Deprecated-1.2.14 networkx-2.8.8 pyconcorde-0.1.0 tabulate-0.8.10 tsplib95-0.7.1\n"
          ]
        }
      ]
    },
    {
      "cell_type": "code",
      "source": [
        "from concorde.problem import Problem\n",
        "from concorde.concorde import Concorde\n",
        "\n",
        "def solve_concorde(matrix):\n",
        "    problem = Problem.from_matrix(matrix)\n",
        "    solver = Concorde()\n",
        "    solution = solver.solve(problem)\n",
        "    print(f'Optimal tour: {solution.tour}')\n",
        "    return solution"
      ],
      "metadata": {
        "id": "qze-CT79tocu"
      },
      "execution_count": null,
      "outputs": []
    },
    {
      "cell_type": "code",
      "source": [
        "durations_symm = symmetricize(durations)\n",
        "solution = solve_concorde(durations_symm)"
      ],
      "metadata": {
        "colab": {
          "base_uri": "https://localhost:8080/"
        },
        "id": "P_uWC-gEt6Gg",
        "outputId": "c9d7a978-ca25-4ee9-b44f-30cde27055c7"
      },
      "execution_count": null,
      "outputs": [
        {
          "output_type": "stream",
          "name": "stdout",
          "text": [
            "Optimal tour: [0, 79, 22, 101, 25, 104, 48, 127, 68, 147, 23, 102, 58, 137, 7, 86, 39, 118, 73, 152, 78, 157, 36, 115, 42, 121, 62, 141, 16, 95, 20, 99, 51, 130, 40, 119, 19, 98, 59, 138, 50, 129, 54, 133, 27, 106, 10, 89, 4, 83, 66, 145, 33, 112, 14, 93, 2, 81, 45, 124, 32, 111, 11, 90, 29, 108, 34, 113, 24, 103, 8, 87, 17, 96, 56, 135, 64, 143, 61, 140, 75, 154, 52, 131, 71, 150, 18, 97, 3, 82, 9, 88, 74, 153, 55, 134, 72, 151, 28, 107, 12, 91, 70, 149, 65, 144, 35, 114, 31, 110, 77, 156, 63, 142, 41, 120, 69, 148, 6, 85, 76, 155, 67, 146, 15, 94, 44, 123, 47, 126, 60, 139, 57, 136, 38, 117, 13, 92, 5, 84, 43, 122, 49, 128, 46, 125, 21, 100, 1, 80, 30, 109, 53, 132, 37, 116, 26, 105]\n"
          ]
        }
      ]
    },
    {
      "cell_type": "code",
      "source": [
        "# pick alternate elements: these correspond to the originals\n",
        "tour = solution.tour[::2]\n",
        "\n",
        "# order the original coordinates and names\n",
        "coords_ordered = [coordinates[i].tolist() for i in tour]\n",
        "names_ordered = [names[i] for i in tour]"
      ],
      "metadata": {
        "id": "d07UX8rFurVO"
      },
      "execution_count": null,
      "outputs": []
    },
    {
      "cell_type": "code",
      "source": [
        "# add back in the first for a complete loop\n",
        "coords_ordered_return = coords_ordered + [coords_ordered[0]]\n",
        "\n",
        "# obtain complete driving directions for the ordered loop\n",
        "directions = api.directions(locations=coords_ordered_return, profile='car')"
      ],
      "metadata": {
        "id": "xgU8xz0auvfQ"
      },
      "execution_count": null,
      "outputs": []
    },
    {
      "cell_type": "code",
      "source": [
        "import folium\n",
        "def generate_map(coordinates, names, directions):\n",
        "\n",
        "    # folium needs lat, long\n",
        "    coordinates = [(y, x) for (x, y) in coordinates]\n",
        "    route_points = [(y, x) for (x, y) in directions.geometry]\n",
        "    lat_centre = np.mean([x for (x, y) in coordinates])\n",
        "    lon_centre = np.mean([y for (x, y) in coordinates])\n",
        "    centre = lat_centre, lon_centre\n",
        "\n",
        "    m = folium.Map(location=centre, zoom_start=1, zoom_control=False)\n",
        "\n",
        "    # plot the route line\n",
        "    folium.PolyLine(route_points, color='red', weight=2).add_to(m)\n",
        "\n",
        "    # plot each point with a hover tooltip\n",
        "    for i, (point, name) in enumerate(zip(coordinates, names)):\n",
        "        folium.CircleMarker(location=point,\n",
        "                      tooltip=f'{i}: {name}',\n",
        "                      radius=2).add_to(m)\n",
        "\n",
        "    custom_tile_layer = folium.TileLayer(\n",
        "        tiles='http://{s}.basemaps.cartocdn.com/light_all/{z}/{x}/{y}.png',\n",
        "        attr='CartoDB Positron',\n",
        "        name='Positron',\n",
        "        overlay=True,\n",
        "        control=True,\n",
        "        opacity=0.7  # Adjust opacity to control the level of greying out\n",
        "    )\n",
        "\n",
        "    custom_tile_layer.add_to(m)\n",
        "    folium.LayerControl().add_to(m)\n",
        "\n",
        "    sw = (np.min([x for (x, y) in coordinates]), np.min([y for (x, y) in coordinates]))\n",
        "    ne = (np.max([x for (x, y) in coordinates]), np.max([y for (x, y) in coordinates]))\n",
        "    m.fit_bounds([sw, ne])\n",
        "\n",
        "    return m\n",
        "\n",
        "generate_map(coords_ordered, names_ordered, directions).save('/content/drive/MyDrive/Colab_Notebooks/gb_cities.html')"
      ],
      "metadata": {
        "id": "v6O7ZH4wvJM-"
      },
      "execution_count": 15,
      "outputs": []
    },
    {
      "cell_type": "code",
      "source": [
        "def generate_gpx_file(directions, filename):\n",
        "    gpx_template = \"\"\"<?xml version=\"1.0\" encoding=\"UTF-8\"?>\n",
        "    <gpx version=\"1.1\" xmlns=\"http://www.topografix.com/GPX/1/1\"\n",
        "        xmlns:xsi=\"http://www.w3.org/2001/XMLSchema-instance\"\n",
        "        xsi:schemaLocation=\"http://www.topografix.com/GPX/1/1\n",
        "        http://www.topografix.com/GPX/1/1/gpx.xsd\">\n",
        "        <trk>\n",
        "            <name>Track</name>\n",
        "            <trkseg>{}</trkseg>\n",
        "        </trk>\n",
        "    </gpx>\n",
        "    \"\"\"\n",
        "\n",
        "    trkseg_template = \"\"\"\n",
        "        <trkpt lat=\"{}\" lon=\"{}\"/>\n",
        "    \"\"\"\n",
        "\n",
        "    trkseg_elements = \"\"\n",
        "    for point in directions.geometry:\n",
        "        trkseg_elements += trkseg_template.format(point[1], point[0])\n",
        "\n",
        "    gpx_data = gpx_template.format(trkseg_elements)\n",
        "\n",
        "    with open(filename, 'w') as file:\n",
        "        file.write(gpx_data)\n",
        "\n",
        "generate_gpx_file(directions, '/content/drive/MyDrive/Colab_Notebooks/gb_cities.gpx')"
      ],
      "metadata": {
        "id": "u04xWeujwIvm"
      },
      "execution_count": 17,
      "outputs": []
    }
  ]
}
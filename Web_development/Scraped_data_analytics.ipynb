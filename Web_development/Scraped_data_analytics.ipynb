{
 "cells": [
  {
   "cell_type": "code",
   "execution_count": 5,
   "metadata": {},
   "outputs": [],
   "source": [
    "from selenium import webdriver\n",
    "from selenium.webdriver.firefox.firefox_binary import FirefoxBinary\n",
    "from bs4 import BeautifulSoup\n",
    "import pandas as pd\n",
    "from urllib.request import urlopen, Request\n",
    "import numpy as np\n",
    "import seaborn as sns\n",
    "from selenium_firefox import Firefox"
   ]
  },
  {
   "cell_type": "code",
   "execution_count": 6,
   "metadata": {},
   "outputs": [
    {
     "name": "stderr",
     "output_type": "stream",
     "text": [
      "<ipython-input-6-d55e6703389f>:2: DeprecationWarning: executable_path has been deprecated, please pass in a Service object\n",
      "  driver = webdriver.Firefox(firefox_binary=binary, executable_path=\"C:/Users/MEDINA TECH/Downloads/geckodriver-v0.32.0-win32/geckodriver.exe\")\n",
      "<ipython-input-6-d55e6703389f>:2: DeprecationWarning: firefox_binary has been deprecated, please pass in a Service object\n",
      "  driver = webdriver.Firefox(firefox_binary=binary, executable_path=\"C:/Users/MEDINA TECH/Downloads/geckodriver-v0.32.0-win32/geckodriver.exe\")\n"
     ]
    }
   ],
   "source": [
    "binary = FirefoxBinary('C:/Program Files (x86)/Mozilla Firefox/firefox.exe')\n",
    "driver = webdriver.Firefox(firefox_binary=binary, executable_path=\"C:/Users/MEDINA TECH/Downloads/geckodriver-v0.32.0-win32/geckodriver.exe\")\n",
    "fuels = [] \n",
    "prices = [] \n",
    "driver.get(\"https://carzaty.com/ae-en/buy?utm_source=DAmenulink&utm_medium=drivearabia&utm_campaign=aeEN\")\n",
    "# html = urlopen(url)\n",
    "# scrap = BeautifulSoup(html,'lxml')\n",
    "# print(scrap)"
   ]
  },
  {
   "cell_type": "code",
   "execution_count": 20,
   "metadata": {},
   "outputs": [],
   "source": [
    "content = driver.page_source\n",
    "scrap = BeautifulSoup(content)\n",
    "# for containers in scrap.findAll('a', {'class':\"_1fQZEK\"}):\n",
    "name = scrap.find('div', attrs={'class':\"_4rR01T\"})\n",
    "price = scrap.find('div', attrs={'class':'_30jeq3 _1_WHN1'})\n",
    "rating = scrap.find('div', attrs={'class':'_3LWZlK'})\n",
    "products.append(name.text)\n",
    "prices.append(price.text)\n",
    "ratings.append(rating.text)"
   ]
  },
  {
   "cell_type": "code",
   "execution_count": 21,
   "metadata": {},
   "outputs": [],
   "source": [
    "df = pd.DataFrame({'Name':products,'Price':prices,'Rating':ratings}) \n",
    "df.to_csv('products.csv', index=False, encoding='utf-8')"
   ]
  },
  {
   "cell_type": "code",
   "execution_count": 27,
   "metadata": {},
   "outputs": [
    {
     "data": {
      "text/plain": [
       "<AxesSubplot:xlabel='Rating', ylabel='Price'>"
      ]
     },
     "execution_count": 27,
     "metadata": {},
     "output_type": "execute_result"
    },
    {
     "data": {
      "image/png": "[encoded data removed]",
      "text/plain": [
       "<Figure size 432x288 with 1 Axes>"
      ]
     },
     "metadata": {
      "needs_background": "light"
     },
     "output_type": "display_data"
    }
   ],
   "source": [
    "df['Price'] = df['Price'].replace({',':''}, regex=True)\n",
    "df['Price'] = df['Price'].astype(np.float)\n",
    "sns.boxplot(x=df['Price'])\n",
    "df['Rating'] = df['Rating'].astype(np.float)\n",
    "sns.barplot(x=df['Rating'], y=df['Price'])\n",
    "sns.lineplot(x=df['Rating'], y=df['Price'])"
   ]
  },
  {
   "cell_type": "code",
   "execution_count": 8,
   "metadata": {},
   "outputs": [],
   "source": [
    "#For carzaty-drive-arabia\n",
    "content = driver.page_source\n",
    "scrap = BeautifulSoup(content)\n",
    "quantity = scrap.find('span', attrs={'class':\"value-02\"})\n",
    "fuels.append(quantity.text)"
   ]
  },
  {
   "cell_type": "code",
   "execution_count": 9,
   "metadata": {},
   "outputs": [
    {
     "name": "stdout",
     "output_type": "stream",
     "text": [
      "  Quantity\n",
      "0     3.6L\n"
     ]
    }
   ],
   "source": [
    "df = pd.DataFrame({'Quantity':fuels}) \n",
    "print(df)\n",
    "df.to_csv('car_details.csv', index=False, encoding='utf-8')"
   ]
  },
  {
   "cell_type": "code",
   "execution_count": 15,
   "metadata": {},
   "outputs": [
    {
     "data": {
      "text/plain": [
       "<AxesSubplot:xlabel='Quantity'>"
      ]
     },
     "execution_count": 15,
     "metadata": {},
     "output_type": "execute_result"
    },
    {
     "data": {
      "image/png": "[encoded data removed]",
      "text/plain": [
       "<Figure size 432x288 with 1 Axes>"
      ]
     },
     "metadata": {
      "needs_background": "light"
     },
     "output_type": "display_data"
    }
   ],
   "source": [
    "import pandas as pd\n",
    "df = pd.read_csv('car_details.csv')\n",
    "df['Quantity'] = df['Quantity'].replace({',':''}, regex=True)\n",
    "df['Quantity'] = df['Quantity'].astype(np.float)\n",
    "sns.boxplot(x=df['Quantity'])"
   ]
  },
  {
   "cell_type": "code",
   "execution_count": null,
   "metadata": {},
   "outputs": [],
   "source": []
  }
 ],
 "metadata": {
  "kernelspec": {
   "display_name": "Python 3",
   "language": "python",
   "name": "python3"
  },
  "language_info": {
   "codemirror_mode": {
    "name": "ipython",
    "version": 3
   },
   "file_extension": ".py",
   "mimetype": "text/x-python",
   "name": "python",
   "nbconvert_exporter": "python",
   "pygments_lexer": "ipython3",
   "version": "3.8.5"
  }
 },
 "nbformat": 4,
 "nbformat_minor": 4
}
